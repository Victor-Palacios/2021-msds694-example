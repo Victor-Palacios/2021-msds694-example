{
 "cells": [
  {
   "cell_type": "code",
   "execution_count": 2,
   "metadata": {
    "ExecuteTime": {
     "end_time": "2021-02-05T07:05:27.383223Z",
     "start_time": "2021-02-05T07:05:23.894226Z"
    }
   },
   "outputs": [],
   "source": [
    "from pyspark.sql import SparkSession\n",
    "from pyspark.sql.types import *\n",
    "from pyspark.sql.functions import *\n",
    "\n",
    "ss = SparkSession.builder.config('spark.driver.extraClassPath',\n",
    "                                 'postgresql-42.2.18.jar')\\\n",
    "                         .getOrCreate()\n",
    "sc = ss.sparkContext"
   ]
  },
  {
   "cell_type": "code",
   "execution_count": 3,
   "metadata": {
    "ExecuteTime": {
     "end_time": "2021-02-05T07:05:27.387497Z",
     "start_time": "2021-02-05T07:05:27.384836Z"
    }
   },
   "outputs": [],
   "source": [
    "endpoint = 'msds694.cmxsootjz10m.us-west-2.rds.amazonaws.com'\n",
    "database = 'postgres'\n",
    "table = 'business'\n",
    "properties = {'user': 'students', 'password': 'msdsstudents'}\n",
    "url = 'jdbc:postgresql://%s/%s' % (endpoint, database)"
   ]
  },
  {
   "cell_type": "markdown",
   "metadata": {},
   "source": [
    "## Create a dataframe from table at the url."
   ]
  },
  {
   "cell_type": "code",
   "execution_count": 4,
   "metadata": {
    "ExecuteTime": {
     "end_time": "2021-02-05T07:05:29.435486Z",
     "start_time": "2021-02-05T07:05:27.390377Z"
    }
   },
   "outputs": [],
   "source": [
    "business_df = ss.read.jdbc(url=url, table=table, properties=properties).repartition('zip', 'street').cache()"
   ]
  },
  {
   "cell_type": "markdown",
   "metadata": {},
   "source": [
    "## Return the first 20 zip and street with the most business. - make sure that the street names are returned fully"
   ]
  },
  {
   "cell_type": "code",
   "execution_count": 5,
   "metadata": {
    "ExecuteTime": {
     "end_time": "2021-02-05T07:05:40.289086Z",
     "start_time": "2021-02-05T07:05:30.469330Z"
    }
   },
   "outputs": [
    {
     "name": "stdout",
     "output_type": "stream",
     "text": [
      "+-----+----------------------+-----+\n",
      "|zip  |street                |count|\n",
      "+-----+----------------------+-----+\n",
      "|94105|201 Spear St 1100     |118  |\n",
      "|94104|235 Montgomery St 350 |106  |\n",
      "|94132|3251 20th Ave         |100  |\n",
      "|94111|50 California St 1500 |96   |\n",
      "|94105|156 2nd St            |94   |\n",
      "|94010|861 Hinckley Rd       |91   |\n",
      "|94123|1757 Union St         |77   |\n",
      "|94103|1455 Market St        |74   |\n",
      "|94114|4248 23rd St          |69   |\n",
      "|94111|100 Pine St 1250      |66   |\n",
      "|94117|1365 Grove St         |64   |\n",
      "|94110|2948 Folsom St        |62   |\n",
      "|94105|71 Stevenson St 400   |60   |\n",
      "|94103|123 10th St           |59   |\n",
      "|94102|588 Sutter St #551    |58   |\n",
      "|94102|25 Taylor St          |58   |\n",
      "|10023|1995 Broadway         |55   |\n",
      "|94103|865 Market St         |55   |\n",
      "|94102|210 Fell St #2        |52   |\n",
      "|94111|101 California St 2450|52   |\n",
      "+-----+----------------------+-----+\n",
      "only showing top 20 rows\n",
      "\n"
     ]
    }
   ],
   "source": [
    "business_count_group = business_df.groupBy('zip','street')\\\n",
    "                                  .count()\\\n",
    "                                  .orderBy('count', 'zip',ascending=[False,True])\n",
    "business_count_group.show(truncate=False)"
   ]
  },
  {
   "cell_type": "code",
   "execution_count": 7,
   "metadata": {
    "ExecuteTime": {
     "end_time": "2021-02-05T07:05:42.960253Z",
     "start_time": "2021-02-05T07:05:42.957372Z"
    }
   },
   "outputs": [],
   "source": [
    "def business_count(x):\n",
    "    if(x >= 70):\n",
    "        return 'High'\n",
    "    elif (x >= 40):\n",
    "        return 'Medium'\n",
    "    else:\n",
    "        return 'low'\n",
    "\n",
    "business_count_udf = udf(business_count)"
   ]
  },
  {
   "cell_type": "markdown",
   "metadata": {},
   "source": [
    "## From Q1, add business_count which  returns 'High' when the count >= 70, 'Medium' when the count >= 40, otherwise 'low'"
   ]
  },
  {
   "cell_type": "code",
   "execution_count": 8,
   "metadata": {
    "ExecuteTime": {
     "end_time": "2021-02-05T07:05:54.877066Z",
     "start_time": "2021-02-05T07:05:43.992268Z"
    }
   },
   "outputs": [
    {
     "name": "stdout",
     "output_type": "stream",
     "text": [
      "+-----+--------------------+-----+--------------+\n",
      "|  zip|              street|count|business_count|\n",
      "+-----+--------------------+-----+--------------+\n",
      "|94105|   201 Spear St 1100|  118|          High|\n",
      "|94104|235 Montgomery St...|  106|          High|\n",
      "|94132|       3251 20th Ave|  100|          High|\n",
      "|94111|50 California St ...|   96|          High|\n",
      "|94105|          156 2nd St|   94|          High|\n",
      "|94010|     861 Hinckley Rd|   91|          High|\n",
      "|94123|       1757 Union St|   77|          High|\n",
      "|94103|      1455 Market St|   74|          High|\n",
      "|94114|        4248 23rd St|   69|        Medium|\n",
      "|94111|    100 Pine St 1250|   66|        Medium|\n",
      "|94117|       1365 Grove St|   64|        Medium|\n",
      "|94110|      2948 Folsom St|   62|        Medium|\n",
      "|94105| 71 Stevenson St 400|   60|        Medium|\n",
      "|94103|         123 10th St|   59|        Medium|\n",
      "|94102|        25 Taylor St|   58|        Medium|\n",
      "|94102|  588 Sutter St #551|   58|        Medium|\n",
      "|10023|       1995 Broadway|   55|        Medium|\n",
      "|94103|       865 Market St|   55|        Medium|\n",
      "|94102|      210 Fell St #2|   52|        Medium|\n",
      "|94111|101 California St...|   52|        Medium|\n",
      "+-----+--------------------+-----+--------------+\n",
      "only showing top 20 rows\n",
      "\n"
     ]
    }
   ],
   "source": [
    "business_count_group.withColumn('business_count', business_count_udf('count')).show()"
   ]
  },
  {
   "cell_type": "code",
   "execution_count": 9,
   "metadata": {
    "ExecuteTime": {
     "end_time": "2021-02-05T07:05:57.878859Z",
     "start_time": "2021-02-05T07:05:57.080969Z"
    }
   },
   "outputs": [],
   "source": [
    "ss.stop()"
   ]
  },
  {
   "cell_type": "code",
   "execution_count": null,
   "metadata": {},
   "outputs": [],
   "source": []
  }
 ],
 "metadata": {
  "kernelspec": {
   "display_name": "Python 3",
   "language": "python",
   "name": "python3"
  },
  "language_info": {
   "codemirror_mode": {
    "name": "ipython",
    "version": 3
   },
   "file_extension": ".py",
   "mimetype": "text/x-python",
   "name": "python",
   "nbconvert_exporter": "python",
   "pygments_lexer": "ipython3",
   "version": "3.8.2"
  }
 },
 "nbformat": 4,
 "nbformat_minor": 4
}
