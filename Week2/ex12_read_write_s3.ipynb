{
 "cells": [
  {
   "cell_type": "markdown",
   "metadata": {},
   "source": [
    "## Configure Spark Session"
   ]
  },
  {
   "cell_type": "markdown",
   "metadata": {},
   "source": [
    "## add the jar :\n",
    "    hadoop-aws\n",
    "    https://mvnrepository.com/artifact/com.amazonaws/aws-java-sdk\n",
    "    "
   ]
  },
  {
   "cell_type": "code",
   "execution_count": 1,
   "metadata": {
    "ExecuteTime": {
     "end_time": "2021-02-01T00:49:47.822898Z",
     "start_time": "2021-02-01T00:49:41.397120Z"
    }
   },
   "outputs": [],
   "source": [
    "from pyspark.sql import SparkSession\n",
    "from pyspark.sql.types import *\n",
    "\n",
    "ss = SparkSession.builder.config(\"spark.jars.packages\",\n",
    "                                 \"com.amazonaws:aws-java-sdk:1.7.4,org.apache.hadoop:hadoop-aws:2.7.5\").getOrCreate()"
   ]
  },
  {
   "cell_type": "code",
   "execution_count": 2,
   "metadata": {
    "ExecuteTime": {
     "end_time": "2021-02-01T00:49:47.835278Z",
     "start_time": "2021-02-01T00:49:47.824892Z"
    }
   },
   "outputs": [
    {
     "data": {
      "text/html": [
       "\n",
       "            <div>\n",
       "                <p><b>SparkSession - in-memory</b></p>\n",
       "                \n",
       "        <div>\n",
       "            <p><b>SparkContext</b></p>\n",
       "\n",
       "            <p><a href=\"http://192.168.0.126:4041\">Spark UI</a></p>\n",
       "\n",
       "            <dl>\n",
       "              <dt>Version</dt>\n",
       "                <dd><code>v3.0.0</code></dd>\n",
       "              <dt>Master</dt>\n",
       "                <dd><code>local[*]</code></dd>\n",
       "              <dt>AppName</dt>\n",
       "                <dd><code>pyspark-shell</code></dd>\n",
       "            </dl>\n",
       "        </div>\n",
       "        \n",
       "            </div>\n",
       "        "
      ],
      "text/plain": [
       "<pyspark.sql.session.SparkSession at 0x7fa98037c0d0>"
      ]
     },
     "execution_count": 2,
     "metadata": {},
     "output_type": "execute_result"
    }
   ],
   "source": [
    "ss"
   ]
  },
  {
   "cell_type": "code",
   "execution_count": 2,
   "metadata": {
    "ExecuteTime": {
     "end_time": "2021-02-01T00:49:12.764438Z",
     "start_time": "2021-02-01T00:49:12.762775Z"
    }
   },
   "outputs": [],
   "source": [
    "#ss._jsc.hadoopConfiguration().set(\"fs.s3a.impl\",\"org.apache.hadoop.fs.s3a.S3AFileSystem\")\n",
    "#ss._jsc.hadoopConfiguration().set(\"com.amazonaws.services.s3.enableV4\", \"true\")"
   ]
  },
  {
   "cell_type": "code",
   "execution_count": 3,
   "metadata": {
    "ExecuteTime": {
     "end_time": "2021-02-01T00:50:09.864615Z",
     "start_time": "2021-02-01T00:50:09.860898Z"
    }
   },
   "outputs": [],
   "source": [
    "ss._jsc.hadoopConfiguration().set(\"fs.s3a.access.key\",\"ACCESS_KEY\")\n",
    "ss._jsc.hadoopConfiguration().set(\"fs.s3a.secret.key\",\"SECRET_KEY\")\n"
   ]
  },
  {
   "cell_type": "code",
   "execution_count": 4,
   "metadata": {
    "ExecuteTime": {
     "end_time": "2021-02-01T00:50:17.202690Z",
     "start_time": "2021-02-01T00:50:10.474343Z"
    }
   },
   "outputs": [],
   "source": [
    "world_bank = ss.read.json(\"s3a://usfca-msan694/world_bank_project.json\")"
   ]
  },
  {
   "cell_type": "code",
   "execution_count": 5,
   "metadata": {
    "ExecuteTime": {
     "end_time": "2021-02-01T00:50:17.918858Z",
     "start_time": "2021-02-01T00:50:17.204290Z"
    }
   },
   "outputs": [
    {
     "name": "stdout",
     "output_type": "stream",
     "text": [
      "+--------------------+----------+--------------------+-------------------+--------------------+-------------------+--------------------+-----------+--------------------+------------------+--------------------+------------------------+--------+-----------+-------+----------+--------------------+--------------------+----------------+---------------+--------------------+--------------------+--------------------+--------------------+-----------+--------+--------------------+---------------+--------------------+--------------------+--------------------+--------------------+--------------------+--------------------+--------------------+--------------------+--------------------+--------------------+--------------------+--------------------+-----------+------+------+--------------------+--------------------+--------------------+-----------+---------+------------+--------------------+\n",
      "|                 _id|approvalfy|board_approval_month|  boardapprovaldate|            borrower|        closingdate|    country_namecode|countrycode|         countryname|  countryshortname|               docty|envassesmentcategorycode|grantamt|ibrdcommamt|     id|idacommamt|           impagency|        lendinginstr|lendinginstrtype|lendprojectcost| majorsector_percent|   mjsector_namecode|             mjtheme|    mjtheme_namecode|mjthemecode|prodline|        prodlinetext|productlinetype|    project_abstract|        project_name|         projectdocs|projectfinancialtype|projectstatusdisplay|          regionname|              sector|             sector1|             sector2|             sector3|             sector4|     sector_namecode| sectorcode|source|status|supplementprojectflg|              theme1|      theme_namecode|  themecode| totalamt|totalcommamt|                 url|\n",
      "+--------------------+----------+--------------------+-------------------+--------------------+-------------------+--------------------+-----------+--------------------+------------------+--------------------+------------------------+--------+-----------+-------+----------+--------------------+--------------------+----------------+---------------+--------------------+--------------------+--------------------+--------------------+-----------+--------+--------------------+---------------+--------------------+--------------------+--------------------+--------------------+--------------------+--------------------+--------------------+--------------------+--------------------+--------------------+--------------------+--------------------+-----------+------+------+--------------------+--------------------+--------------------+-----------+---------+------------+--------------------+\n",
      "|[52b213b38594d8a2...|      1999|            November|2013-11-11 16:00:00|FEDERAL DEMOCRATI...|2018-07-06 17:00:00|Federal Democrati...|         ET|Federal Democrati...|          Ethiopia|Project Informati...|                       C|       0|          0|P129828| 130000000|MINISTRY OF EDUCA...|Investment Projec...|              IN|      550000000|[[Education, 46],...|[[EX, Education],...| [Human development]|[[8, Human develo...|       8,11|      PE|            IBRD/IDA|              L|[The development ...|Ethiopia General ...|[[28-AUG-2013, PI...|                 IDA|              Active|              Africa|[[Primary educati...|[Primary educatio...|[Secondary educat...|[Public administr...|[Tertiary educati...|[[EP, Primary edu...|ET,BS,ES,EP|  IBRD|Active|                   N|[Education for al...|[[65, Education f...|         65|130000000|   130000000|http://www.worldb...|\n",
      "|[52b213b38594d8a2...|      2015|            November|2013-11-03 16:00:00|GOVERNMENT OF TUN...|               null|Republic of Tunis...|         TN| Republic of Tunisia|           Tunisia|Project Informati...|                       C| 4700000|          0|P144674|         0| MINISTRY OF FINANCE|Specific Investme...|              IN|        5700000|[[Public Administ...|[[BX, Public Admi...|[Economic managem...|[[1, Economic man...|        1,6|      RE|Recipient Execute...|              L|                null|TN: DTF Social Pr...|[[29-MAR-2013, PI...|               OTHER|              Active|Middle East and N...|[[Public administ...|[Public administr...|[General public a...|                null|                null|[[BS, Public admi...|      BZ,BS|  IBRD|Active|                   N|[Other economic m...|[[24, Other econo...|      54,24|        0|     4700000|http://www.worldb...|\n",
      "|[52b213b38594d8a2...|      2014|            November|2013-10-31 17:00:00|MINISTRY OF FINAN...|               null|         Tuvalu!$!TV|         TV|              Tuvalu|            Tuvalu|Resettlement Plan...|                       B|       0|          0|P145310|   6060000|MINISTRY OF TRANS...|Investment Projec...|              IN|        6060000|[[Transportation,...|[[TX, Transportat...|[Trade and integr...|[[5, Trade and in...|   5,2,11,6|      PE|            IBRD/IDA|              L|                null|Tuvalu Aviation I...|[[21-OCT-2013, RP...|                 IDA|              Active|East Asia and Pac...|[[Rural and Inter...|[Rural and Inter-...|                null|                null|                null|[[TI, Rural and I...|         TI|  IBRD|Active|                   Y|[Regional integra...|[[47, Regional in...|52,81,25,47|  6060000|     6060000|http://www.worldb...|\n",
      "|[52b213b38594d8a2...|      2014|             October|2013-10-30 17:00:00|MIN. OF PLANNING ...|               null|Republic of Yemen...|         RY|   Republic of Yemen|Yemen, Republic of|Procurement Plan,...|                       C| 1500000|          0|P144665|         0|LABOR INTENSIVE P...|Technical Assista...|              IN|        1500000|[[Health and othe...|[[JX, Health and ...|[Social dev/gende...|[[7, Social dev/g...|        7,7|      RE|Recipient Execute...|              L|                null|Gov't and Civil S...|[[15-MAY-2013, PR...|               OTHER|              Active|Middle East and N...|[[Other social se...|[Other social ser...|                null|                null|                null|[[JB, Other socia...|         JB|  IBRD|Active|                   N|[Participation an...|[[57, Participati...|      59,57|        0|     1500000|http://www.worldb...|\n",
      "|[52b213b38594d8a2...|      2014|             October|2013-10-30 17:00:00| MINISTRY OF FINANCE|2019-04-29 17:00:00|Kingdom of Lesoth...|         LS|  Kingdom of Lesotho|           Lesotho|Project Informati...|                       B|       0|          0|P144933|  13100000|MINISTRY OF TRADE...|Investment Projec...|              IN|       15000000|[[Industry and tr...|[[YX, Industry an...|[Trade and integr...|[[5, Trade and in...|        5,4|      PE|            IBRD/IDA|              L|[The development ...|Second Private Se...|[[06-SEP-2013, PI...|                 IDA|              Active|              Africa|[[General industr...|[General industry...|[Other industry, 40]|   [SME Finance, 10]|                null|[[YZ, General ind...|   FH,YW,YZ|  IBRD|Active|                   N|[Export developme...|[[45, Export deve...|      41,45| 13100000|    13100000|http://www.worldb...|\n",
      "+--------------------+----------+--------------------+-------------------+--------------------+-------------------+--------------------+-----------+--------------------+------------------+--------------------+------------------------+--------+-----------+-------+----------+--------------------+--------------------+----------------+---------------+--------------------+--------------------+--------------------+--------------------+-----------+--------+--------------------+---------------+--------------------+--------------------+--------------------+--------------------+--------------------+--------------------+--------------------+--------------------+--------------------+--------------------+--------------------+--------------------+-----------+------+------+--------------------+--------------------+--------------------+-----------+---------+------------+--------------------+\n",
      "only showing top 5 rows\n",
      "\n"
     ]
    }
   ],
   "source": [
    "world_bank.show(5)"
   ]
  },
  {
   "cell_type": "code",
   "execution_count": 7,
   "metadata": {
    "ExecuteTime": {
     "end_time": "2021-02-01T00:50:33.429052Z",
     "start_time": "2021-02-01T00:50:22.574469Z"
    }
   },
   "outputs": [],
   "source": [
    "world_bank.write.parquet(\"s3a://usfca-msan694/world_bank_project\")"
   ]
  },
  {
   "cell_type": "code",
   "execution_count": 8,
   "metadata": {
    "ExecuteTime": {
     "end_time": "2021-02-01T00:50:52.804612Z",
     "start_time": "2021-02-01T00:50:52.356918Z"
    }
   },
   "outputs": [],
   "source": [
    "ss.stop()"
   ]
  },
  {
   "cell_type": "code",
   "execution_count": null,
   "metadata": {},
   "outputs": [],
   "source": []
  },
  {
   "cell_type": "code",
   "execution_count": null,
   "metadata": {},
   "outputs": [],
   "source": []
  }
 ],
 "metadata": {
  "kernelspec": {
   "display_name": "Python 3",
   "language": "python",
   "name": "python3"
  },
  "language_info": {
   "codemirror_mode": {
    "name": "ipython",
    "version": 3
   },
   "file_extension": ".py",
   "mimetype": "text/x-python",
   "name": "python",
   "nbconvert_exporter": "python",
   "pygments_lexer": "ipython3",
   "version": "3.8.2"
  }
 },
 "nbformat": 4,
 "nbformat_minor": 5
}
