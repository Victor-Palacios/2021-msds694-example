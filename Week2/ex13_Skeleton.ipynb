{
 "cells": [
  {
   "cell_type": "markdown",
   "metadata": {},
   "source": [
    "## Configure Spark Session"
   ]
  },
  {
   "cell_type": "code",
   "execution_count": null,
   "metadata": {
    "ExecuteTime": {
     "end_time": "2021-02-01T00:32:57.215871Z",
     "start_time": "2021-02-01T00:32:53.259833Z"
    }
   },
   "outputs": [],
   "source": [
    "from pyspark.sql import SparkSession\n",
    "from pyspark.sql.types import *\n",
    "\n",
    "ss = SparkSession.builder."
   ]
  },
  {
   "cell_type": "code",
   "execution_count": null,
   "metadata": {
    "ExecuteTime": {
     "end_time": "2021-02-01T00:32:57.221391Z",
     "start_time": "2021-02-01T00:32:57.218723Z"
    }
   },
   "outputs": [],
   "source": [
    "endpoint = \n",
    "database = \n",
    "table = \n",
    "properties = \n",
    "url = "
   ]
  },
  {
   "cell_type": "markdown",
   "metadata": {},
   "source": [
    "## Read from AWS RDS "
   ]
  },
  {
   "cell_type": "code",
   "execution_count": null,
   "metadata": {
    "ExecuteTime": {
     "end_time": "2021-02-01T00:33:03.066124Z",
     "start_time": "2021-02-01T00:32:58.912312Z"
    }
   },
   "outputs": [],
   "source": [
    "activity_code = ss.read\n",
    "activity_code.show()"
   ]
  },
  {
   "cell_type": "markdown",
   "metadata": {},
   "source": [
    "## Write to AWS RDS"
   ]
  },
  {
   "cell_type": "code",
   "execution_count": null,
   "metadata": {
    "ExecuteTime": {
     "end_time": "2021-02-01T00:35:53.405644Z",
     "start_time": "2021-02-01T00:35:53.381027Z"
    }
   },
   "outputs": [],
   "source": [
    "schema = StructType([StructField(\"zip\", IntegerType(), True),\n",
    "                     StructField(\"name\", StringType(), False),\n",
    "                     StructField(\"street\", StringType(), True),\n",
    "                     StructField(\"city\", StringType(), True),\n",
    "                     StructField(\"state\", StringType(), True)\n",
    "                     ])\n",
    "\n",
    "business_df = ss.read.csv(\n",
    "    \"../Data/SF_business/filtered_registered_business_sf.csv\", schema)"
   ]
  },
  {
   "cell_type": "code",
   "execution_count": null,
   "metadata": {
    "ExecuteTime": {
     "end_time": "2021-02-01T00:36:17.641375Z",
     "start_time": "2021-02-01T00:35:54.056223Z"
    }
   },
   "outputs": [],
   "source": [
    "table = 'business'\n",
    "business_df.write."
   ]
  },
  {
   "cell_type": "code",
   "execution_count": null,
   "metadata": {
    "ExecuteTime": {
     "end_time": "2021-02-01T00:36:57.307794Z",
     "start_time": "2021-02-01T00:36:57.059477Z"
    }
   },
   "outputs": [],
   "source": [
    "ss.stop()"
   ]
  },
  {
   "cell_type": "code",
   "execution_count": null,
   "metadata": {},
   "outputs": [],
   "source": []
  }
 ],
 "metadata": {
  "kernelspec": {
   "display_name": "Python 3",
   "language": "python",
   "name": "python3"
  },
  "language_info": {
   "codemirror_mode": {
    "name": "ipython",
    "version": 3
   },
   "file_extension": ".py",
   "mimetype": "text/x-python",
   "name": "python",
   "nbconvert_exporter": "python",
   "pygments_lexer": "ipython3",
   "version": "3.8.2"
  }
 },
 "nbformat": 4,
 "nbformat_minor": 5
}
