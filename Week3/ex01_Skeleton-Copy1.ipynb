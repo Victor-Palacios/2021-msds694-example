{
 "cells": [
  {
   "cell_type": "markdown",
   "metadata": {},
   "source": [
    "https://machinelearningmastery.com/simple-linear-regression-tutorial-for-machine-learning/ <br>\n",
    "https://machinelearningmastery.com/implement-simple-linear-regression-scratch-python/"
   ]
  },
  {
   "cell_type": "code",
   "execution_count": 1,
   "metadata": {
    "ExecuteTime": {
     "end_time": "2021-02-07T18:37:53.353797Z",
     "start_time": "2021-02-07T18:37:50.232957Z"
    }
   },
   "outputs": [],
   "source": [
    "from pyspark.sql import SparkSession\n",
    "from pyspark.sql.types import *\n",
    "from pyspark.sql import Row\n",
    "from pyspark.sql.functions import *\n",
    "import math\n",
    "ss = SparkSession.builder.getOrCreate()"
   ]
  },
  {
   "cell_type": "markdown",
   "metadata": {},
   "source": [
    "## Create a data frame"
   ]
  },
  {
   "cell_type": "code",
   "execution_count": 2,
   "metadata": {
    "ExecuteTime": {
     "end_time": "2021-02-07T18:37:53.358490Z",
     "start_time": "2021-02-07T18:37:53.355677Z"
    }
   },
   "outputs": [],
   "source": [
    "irisSchema = StructType([StructField(\"sepal_length\", DoubleType(), True),\n",
    "                         StructField(\"sepal_width\", DoubleType(), True),\n",
    "                         StructField(\"petal_length\", DoubleType(), True),\n",
    "                         StructField(\"petal_width\", DoubleType(), True),\n",
    "                         StructField(\"class\", StringType(), True)\n",
    "    \n",
    "])"
   ]
  },
  {
   "cell_type": "code",
   "execution_count": 3,
   "metadata": {
    "ExecuteTime": {
     "end_time": "2021-02-07T18:37:55.235993Z",
     "start_time": "2021-02-07T18:37:53.360858Z"
    }
   },
   "outputs": [],
   "source": [
    "iris = ss.read.csv(\"../Data/iris.csv\", schema=irisSchema)"
   ]
  },
  {
   "cell_type": "code",
   "execution_count": 4,
   "metadata": {
    "ExecuteTime": {
     "end_time": "2021-02-07T18:37:57.104501Z",
     "start_time": "2021-02-07T18:37:55.237857Z"
    }
   },
   "outputs": [
    {
     "data": {
      "text/plain": [
       "150"
      ]
     },
     "execution_count": 4,
     "metadata": {},
     "output_type": "execute_result"
    }
   ],
   "source": [
    "iris.count()"
   ]
  },
  {
   "cell_type": "markdown",
   "metadata": {},
   "source": [
    "## Split training and test set."
   ]
  },
  {
   "cell_type": "code",
   "execution_count": 5,
   "metadata": {
    "ExecuteTime": {
     "end_time": "2021-02-07T18:37:57.134069Z",
     "start_time": "2021-02-07T18:37:57.106251Z"
    }
   },
   "outputs": [],
   "source": [
    "train, test = iris.randomSplit([0.9, 0.1])"
   ]
  },
  {
   "cell_type": "code",
   "execution_count": 6,
   "metadata": {
    "ExecuteTime": {
     "end_time": "2021-02-07T18:37:57.192397Z",
     "start_time": "2021-02-07T18:37:57.136055Z"
    }
   },
   "outputs": [
    {
     "data": {
      "text/plain": [
       "DataFrame[sepal_length: double, sepal_width: double, petal_length: double, petal_width: double, class: string]"
      ]
     },
     "execution_count": 6,
     "metadata": {},
     "output_type": "execute_result"
    }
   ],
   "source": [
    "train.cache()"
   ]
  },
  {
   "cell_type": "code",
   "execution_count": 7,
   "metadata": {
    "ExecuteTime": {
     "end_time": "2021-02-07T18:37:58.106239Z",
     "start_time": "2021-02-07T18:37:57.193720Z"
    }
   },
   "outputs": [],
   "source": [
    "test.write.saveAsTable(\"test\")"
   ]
  },
  {
   "cell_type": "markdown",
   "metadata": {},
   "source": [
    "## calculate covariance."
   ]
  },
  {
   "cell_type": "code",
   "execution_count": 8,
   "metadata": {
    "ExecuteTime": {
     "end_time": "2021-02-07T18:37:58.359236Z",
     "start_time": "2021-02-07T18:37:58.109684Z"
    }
   },
   "outputs": [],
   "source": [
    "covariance = train.cov(\"sepal_width\", \"petal_width\")"
   ]
  },
  {
   "cell_type": "code",
   "execution_count": 9,
   "metadata": {
    "ExecuteTime": {
     "end_time": "2021-02-07T18:37:58.364638Z",
     "start_time": "2021-02-07T18:37:58.361431Z"
    }
   },
   "outputs": [
    {
     "data": {
      "text/plain": [
       "-0.11767654880330912"
      ]
     },
     "execution_count": 9,
     "metadata": {},
     "output_type": "execute_result"
    }
   ],
   "source": [
    "covariance"
   ]
  },
  {
   "cell_type": "markdown",
   "metadata": {},
   "source": [
    "## calculate variance."
   ]
  },
  {
   "cell_type": "code",
   "execution_count": 10,
   "metadata": {
    "ExecuteTime": {
     "end_time": "2021-02-07T18:37:58.566644Z",
     "start_time": "2021-02-07T18:37:58.366806Z"
    }
   },
   "outputs": [],
   "source": [
    "variance = train.select(variance(\"sepal_width\")).first()[0]"
   ]
  },
  {
   "cell_type": "markdown",
   "metadata": {
    "collapsed": true
   },
   "source": [
    "## Estimate coefficients and apply the equation\n",
    "\n",
    "# where petal_length = coeff_0 * sepal_length + coeff_1"
   ]
  },
  {
   "cell_type": "markdown",
   "metadata": {},
   "source": [
    "### coeff_0 = covariance(x,y)/variance(x)\n"
   ]
  },
  {
   "cell_type": "markdown",
   "metadata": {},
   "source": [
    "### coeff_1 = mean(y) – coeff_0 * mean(x)"
   ]
  },
  {
   "cell_type": "code",
   "execution_count": 11,
   "metadata": {
    "ExecuteTime": {
     "end_time": "2021-02-07T18:37:58.570528Z",
     "start_time": "2021-02-07T18:37:58.568602Z"
    }
   },
   "outputs": [],
   "source": [
    "coeff_0 = covariance/variance"
   ]
  },
  {
   "cell_type": "code",
   "execution_count": 12,
   "metadata": {
    "ExecuteTime": {
     "end_time": "2021-02-07T18:37:58.787913Z",
     "start_time": "2021-02-07T18:37:58.572003Z"
    }
   },
   "outputs": [],
   "source": [
    "coeff_1 = train.select(mean(\"petal_width\")).first()[0]\\\n",
    "        - coeff_0 * train.select(mean(\"sepal_width\")).first()[0]"
   ]
  },
  {
   "cell_type": "code",
   "execution_count": 13,
   "metadata": {
    "ExecuteTime": {
     "end_time": "2021-02-07T18:37:58.794514Z",
     "start_time": "2021-02-07T18:37:58.790497Z"
    }
   },
   "outputs": [
    {
     "data": {
      "text/plain": [
       "-0.6093060733245946"
      ]
     },
     "execution_count": 13,
     "metadata": {},
     "output_type": "execute_result"
    }
   ],
   "source": [
    "coeff_0"
   ]
  },
  {
   "cell_type": "code",
   "execution_count": 14,
   "metadata": {
    "ExecuteTime": {
     "end_time": "2021-02-07T18:37:58.800050Z",
     "start_time": "2021-02-07T18:37:58.796706Z"
    }
   },
   "outputs": [
    {
     "data": {
      "text/plain": [
       "3.038261587968603"
      ]
     },
     "execution_count": 14,
     "metadata": {},
     "output_type": "execute_result"
    }
   ],
   "source": [
    "coeff_1"
   ]
  },
  {
   "cell_type": "code",
   "execution_count": 21,
   "metadata": {
    "ExecuteTime": {
     "end_time": "2021-02-07T18:42:34.428443Z",
     "start_time": "2021-02-07T18:42:34.414297Z"
    }
   },
   "outputs": [],
   "source": [
    "test_output = ss.sql(\"SELECT sepal_width, petal_width, sepal_width * {0} + {1} AS prediction\\\n",
    "                      FROM test\".format(coeff_0, coeff_1))"
   ]
  },
  {
   "cell_type": "code",
   "execution_count": 22,
   "metadata": {
    "ExecuteTime": {
     "end_time": "2021-02-07T18:42:35.492089Z",
     "start_time": "2021-02-07T18:42:35.397121Z"
    }
   },
   "outputs": [
    {
     "name": "stdout",
     "output_type": "stream",
     "text": [
      "+-----------+-----------+------------------+\n",
      "|sepal_width|petal_width|        prediction|\n",
      "+-----------+-----------+------------------+\n",
      "|        3.4|        0.2|0.9666209386649811|\n",
      "|        2.7|        1.2|1.3931351899921973|\n",
      "|        2.7|        1.8|1.3931351899921973|\n",
      "|        2.7|        1.9|1.3931351899921973|\n",
      "|        2.8|        2.2|1.3322045826597382|\n",
      "|        3.2|        2.3|   1.0884821533299|\n",
      "|        3.1|        2.3|1.1494127606623596|\n",
      "+-----------+-----------+------------------+\n",
      "\n"
     ]
    }
   ],
   "source": [
    "test_output.show()"
   ]
  },
  {
   "cell_type": "markdown",
   "metadata": {},
   "source": [
    "## rmse (root mean squre error) : https://en.wikipedia.org/wiki/Root-mean-square_deviation"
   ]
  },
  {
   "cell_type": "code",
   "execution_count": 26,
   "metadata": {
    "ExecuteTime": {
     "end_time": "2021-02-07T18:43:34.716907Z",
     "start_time": "2021-02-07T18:43:34.603443Z"
    }
   },
   "outputs": [
    {
     "data": {
      "text/plain": [
       "0.6560221641347653"
      ]
     },
     "execution_count": 26,
     "metadata": {},
     "output_type": "execute_result"
    }
   ],
   "source": [
    "test_output.rdd.map(lambda x : (x[\"prediction\"] - x[\"petal_width\"]) ** 2).sum()/test_output.count()"
   ]
  },
  {
   "cell_type": "code",
   "execution_count": 27,
   "metadata": {
    "ExecuteTime": {
     "end_time": "2021-02-07T18:43:51.708030Z",
     "start_time": "2021-02-07T18:43:51.317333Z"
    }
   },
   "outputs": [],
   "source": [
    "ss.stop()"
   ]
  },
  {
   "cell_type": "code",
   "execution_count": null,
   "metadata": {},
   "outputs": [],
   "source": []
  }
 ],
 "metadata": {
  "anaconda-cloud": {},
  "kernelspec": {
   "display_name": "Python 3",
   "language": "python",
   "name": "python3"
  },
  "language_info": {
   "codemirror_mode": {
    "name": "ipython",
    "version": 3
   },
   "file_extension": ".py",
   "mimetype": "text/x-python",
   "name": "python",
   "nbconvert_exporter": "python",
   "pygments_lexer": "ipython3",
   "version": "3.8.2"
  },
  "varInspector": {
   "cols": {
    "lenName": 16,
    "lenType": 16,
    "lenVar": 40
   },
   "kernels_config": {
    "python": {
     "delete_cmd_postfix": "",
     "delete_cmd_prefix": "del ",
     "library": "var_list.py",
     "varRefreshCmd": "print(var_dic_list())"
    },
    "r": {
     "delete_cmd_postfix": ") ",
     "delete_cmd_prefix": "rm(",
     "library": "var_list.r",
     "varRefreshCmd": "cat(var_dic_list()) "
    }
   },
   "types_to_exclude": [
    "module",
    "function",
    "builtin_function_or_method",
    "instance",
    "_Feature"
   ],
   "window_display": false
  }
 },
 "nbformat": 4,
 "nbformat_minor": 2
}
