{
 "cells": [
  {
   "cell_type": "markdown",
   "metadata": {},
   "source": [
    "https://machinelearningmastery.com/simple-linear-regression-tutorial-for-machine-learning/ <br>\n",
    "https://machinelearningmastery.com/implement-simple-linear-regression-scratch-python/"
   ]
  },
  {
   "cell_type": "code",
   "execution_count": 1,
   "metadata": {
    "ExecuteTime": {
     "end_time": "2021-02-07T18:15:07.640899Z",
     "start_time": "2021-02-07T18:15:04.353515Z"
    }
   },
   "outputs": [],
   "source": [
    "from pyspark.sql import SparkSession\n",
    "from pyspark.sql.types import *\n",
    "from pyspark.sql import Row\n",
    "from pyspark.sql.functions import *\n",
    "import math\n",
    "ss = SparkSession.builder.getOrCreate()"
   ]
  },
  {
   "cell_type": "code",
   "execution_count": 2,
   "metadata": {
    "ExecuteTime": {
     "end_time": "2021-02-07T18:15:09.842614Z",
     "start_time": "2021-02-07T18:15:07.643021Z"
    }
   },
   "outputs": [
    {
     "data": {
      "text/plain": [
       "DataFrame[]"
      ]
     },
     "execution_count": 2,
     "metadata": {},
     "output_type": "execute_result"
    }
   ],
   "source": [
    "ss.sql(\"DROP TABLE IF EXISTS test\") #delete test table, if exsists."
   ]
  },
  {
   "cell_type": "markdown",
   "metadata": {},
   "source": [
    "## Create a schema"
   ]
  },
  {
   "cell_type": "code",
   "execution_count": 3,
   "metadata": {
    "ExecuteTime": {
     "end_time": "2021-02-07T18:15:09.847293Z",
     "start_time": "2021-02-07T18:15:09.844636Z"
    }
   },
   "outputs": [],
   "source": [
    "irisSchema = StructType([StructField(\"sepal_length\", DoubleType(), True), \n",
    "                         StructField(\"sepal_width\", DoubleType(), True),\n",
    "                         StructField(\"petal_length\", DoubleType(), True), \n",
    "                         StructField(\"petal_width\", DoubleType(), True),\n",
    "                         StructField(\"class\", StringType(), True)])"
   ]
  },
  {
   "cell_type": "markdown",
   "metadata": {},
   "source": [
    "## Create a data frame"
   ]
  },
  {
   "cell_type": "code",
   "execution_count": 4,
   "metadata": {
    "ExecuteTime": {
     "end_time": "2021-02-07T18:15:10.076577Z",
     "start_time": "2021-02-07T18:15:09.848941Z"
    }
   },
   "outputs": [],
   "source": [
    "iris = ss.read.csv('../Data/iris.csv', schema = irisSchema, header=False)"
   ]
  },
  {
   "cell_type": "code",
   "execution_count": 5,
   "metadata": {
    "ExecuteTime": {
     "end_time": "2021-02-07T18:15:20.177051Z",
     "start_time": "2021-02-07T18:15:20.120771Z"
    }
   },
   "outputs": [],
   "source": [
    "iris = iris.select('sepal_width','petal_width')"
   ]
  },
  {
   "cell_type": "code",
   "execution_count": 6,
   "metadata": {
    "ExecuteTime": {
     "end_time": "2021-02-07T18:15:23.312291Z",
     "start_time": "2021-02-07T18:15:21.380810Z"
    }
   },
   "outputs": [
    {
     "name": "stdout",
     "output_type": "stream",
     "text": [
      "+-----------+-----------+\n",
      "|sepal_width|petal_width|\n",
      "+-----------+-----------+\n",
      "|        3.5|        0.2|\n",
      "|        3.0|        0.2|\n",
      "|        3.2|        0.2|\n",
      "|        3.1|        0.2|\n",
      "|        3.6|        0.2|\n",
      "+-----------+-----------+\n",
      "only showing top 5 rows\n",
      "\n"
     ]
    }
   ],
   "source": [
    "iris.show(5)"
   ]
  },
  {
   "cell_type": "markdown",
   "metadata": {},
   "source": [
    "## Split training and test set."
   ]
  },
  {
   "cell_type": "code",
   "execution_count": 8,
   "metadata": {
    "ExecuteTime": {
     "end_time": "2021-02-07T18:15:43.909214Z",
     "start_time": "2021-02-07T18:15:43.123925Z"
    },
    "scrolled": true
   },
   "outputs": [],
   "source": [
    "train, test = iris.randomSplit([0.9, 0.1])\n",
    "train.cache()\n",
    "test.write.saveAsTable(\"test\")"
   ]
  },
  {
   "cell_type": "markdown",
   "metadata": {},
   "source": [
    "## calculate covariance."
   ]
  },
  {
   "cell_type": "code",
   "execution_count": 9,
   "metadata": {
    "ExecuteTime": {
     "end_time": "2021-02-07T18:15:51.930622Z",
     "start_time": "2021-02-07T18:15:51.681669Z"
    }
   },
   "outputs": [
    {
     "data": {
      "text/plain": [
       "-0.1094772036474167"
      ]
     },
     "execution_count": 9,
     "metadata": {},
     "output_type": "execute_result"
    }
   ],
   "source": [
    "covariance = train.cov(\"sepal_width\",\"petal_width\")\n",
    "covariance"
   ]
  },
  {
   "cell_type": "markdown",
   "metadata": {},
   "source": [
    "## calculate variance."
   ]
  },
  {
   "cell_type": "code",
   "execution_count": 10,
   "metadata": {
    "ExecuteTime": {
     "end_time": "2021-02-07T18:15:56.458990Z",
     "start_time": "2021-02-07T18:15:56.148155Z"
    }
   },
   "outputs": [
    {
     "data": {
      "text/plain": [
       "Row(var_samp(sepal_width)=0.17971124620060855)"
      ]
     },
     "execution_count": 10,
     "metadata": {},
     "output_type": "execute_result"
    }
   ],
   "source": [
    "train.select(variance(\"sepal_width\")).first()"
   ]
  },
  {
   "cell_type": "code",
   "execution_count": 11,
   "metadata": {
    "ExecuteTime": {
     "end_time": "2021-02-07T18:16:00.543889Z",
     "start_time": "2021-02-07T18:16:00.447741Z"
    }
   },
   "outputs": [
    {
     "data": {
      "text/plain": [
       "0.17971124620060855"
      ]
     },
     "execution_count": 11,
     "metadata": {},
     "output_type": "execute_result"
    }
   ],
   "source": [
    "variance = train.select(variance(\"sepal_width\")).first()[0]\n",
    "variance"
   ]
  },
  {
   "cell_type": "markdown",
   "metadata": {
    "collapsed": true
   },
   "source": [
    "## Estimate coefficients and apply the equation\n",
    "# where petal_width = coeff_0 * sepal_width + coeff_1"
   ]
  },
  {
   "cell_type": "markdown",
   "metadata": {},
   "source": [
    "### coeff_0 = covariance(x,y)/variance(x)\n"
   ]
  },
  {
   "cell_type": "markdown",
   "metadata": {},
   "source": [
    "### coeff_1 = mean(y) – coeff_0 * mean(x)"
   ]
  },
  {
   "cell_type": "code",
   "execution_count": 12,
   "metadata": {
    "ExecuteTime": {
     "end_time": "2021-02-07T18:16:14.178858Z",
     "start_time": "2021-02-07T18:16:14.176556Z"
    }
   },
   "outputs": [],
   "source": [
    "coeff_0 = covariance/variance"
   ]
  },
  {
   "cell_type": "code",
   "execution_count": 13,
   "metadata": {
    "ExecuteTime": {
     "end_time": "2021-02-07T18:16:32.607912Z",
     "start_time": "2021-02-07T18:16:32.423313Z"
    }
   },
   "outputs": [],
   "source": [
    "coeff_1 =  train.select(mean(\"petal_width\")).first()[0] - coeff_0 * train.select(mean(\"sepal_width\")).first()[0]"
   ]
  },
  {
   "cell_type": "code",
   "execution_count": 14,
   "metadata": {
    "ExecuteTime": {
     "end_time": "2021-02-07T18:16:47.730156Z",
     "start_time": "2021-02-07T18:16:47.655778Z"
    }
   },
   "outputs": [],
   "source": [
    "test_output = ss.sql(\"SELECT sepal_width, petal_width, sepal_width * {0} + {1} AS prediction FROM test\".format(coeff_0, coeff_1))"
   ]
  },
  {
   "cell_type": "code",
   "execution_count": 15,
   "metadata": {
    "ExecuteTime": {
     "end_time": "2021-02-07T18:16:48.802912Z",
     "start_time": "2021-02-07T18:16:48.635628Z"
    }
   },
   "outputs": [
    {
     "name": "stdout",
     "output_type": "stream",
     "text": [
      "+-----------+-----------+------------------+\n",
      "|sepal_width|petal_width|        prediction|\n",
      "+-----------+-----------+------------------+\n",
      "|        2.6|        1.2|1.4817753347427745|\n",
      "|        2.8|        1.9|  1.35993854827343|\n",
      "|        2.8|        2.0|  1.35993854827343|\n",
      "|        3.1|        0.2|1.1771833685694133|\n",
      "|        3.2|        0.2|1.1162649753347411|\n",
      "|        3.4|        0.2|0.9944281888653967|\n",
      "|        3.4|        2.4|0.9944281888653967|\n",
      "|        3.7|        0.2|  0.81167300916138|\n",
      "|        4.4|        0.4| 0.385244256518674|\n",
      "+-----------+-----------+------------------+\n",
      "\n"
     ]
    }
   ],
   "source": [
    "test_output.show()"
   ]
  },
  {
   "cell_type": "markdown",
   "metadata": {},
   "source": [
    "## rmse (root mean squre error) : https://en.wikipedia.org/wiki/Root-mean-square_deviation"
   ]
  },
  {
   "cell_type": "code",
   "execution_count": 16,
   "metadata": {
    "ExecuteTime": {
     "end_time": "2021-02-07T18:16:58.805228Z",
     "start_time": "2021-02-07T18:16:57.900716Z"
    }
   },
   "outputs": [],
   "source": [
    "rmse = math.sqrt(test_output.rdd.map(lambda x : (x[\"prediction\"] - x[\"petal_width\"])**2)\\\n",
    "                      .reduce(lambda x,y : x + y)/test_output.count())"
   ]
  },
  {
   "cell_type": "code",
   "execution_count": 17,
   "metadata": {
    "ExecuteTime": {
     "end_time": "2021-02-07T18:16:59.518532Z",
     "start_time": "2021-02-07T18:16:59.515990Z"
    }
   },
   "outputs": [
    {
     "data": {
      "text/plain": [
       "0.7857255019232553"
      ]
     },
     "execution_count": 17,
     "metadata": {},
     "output_type": "execute_result"
    }
   ],
   "source": [
    "rmse"
   ]
  },
  {
   "cell_type": "code",
   "execution_count": 18,
   "metadata": {
    "ExecuteTime": {
     "end_time": "2021-02-07T18:17:02.712624Z",
     "start_time": "2021-02-07T18:17:01.909135Z"
    }
   },
   "outputs": [],
   "source": [
    "ss.stop()"
   ]
  },
  {
   "cell_type": "code",
   "execution_count": null,
   "metadata": {},
   "outputs": [],
   "source": []
  }
 ],
 "metadata": {
  "anaconda-cloud": {},
  "kernelspec": {
   "display_name": "Python 3",
   "language": "python",
   "name": "python3"
  },
  "language_info": {
   "codemirror_mode": {
    "name": "ipython",
    "version": 3
   },
   "file_extension": ".py",
   "mimetype": "text/x-python",
   "name": "python",
   "nbconvert_exporter": "python",
   "pygments_lexer": "ipython3",
   "version": "3.8.2"
  },
  "varInspector": {
   "cols": {
    "lenName": 16,
    "lenType": 16,
    "lenVar": 40
   },
   "kernels_config": {
    "python": {
     "delete_cmd_postfix": "",
     "delete_cmd_prefix": "del ",
     "library": "var_list.py",
     "varRefreshCmd": "print(var_dic_list())"
    },
    "r": {
     "delete_cmd_postfix": ") ",
     "delete_cmd_prefix": "rm(",
     "library": "var_list.r",
     "varRefreshCmd": "cat(var_dic_list()) "
    }
   },
   "types_to_exclude": [
    "module",
    "function",
    "builtin_function_or_method",
    "instance",
    "_Feature"
   ],
   "window_display": false
  }
 },
 "nbformat": 4,
 "nbformat_minor": 2
}
