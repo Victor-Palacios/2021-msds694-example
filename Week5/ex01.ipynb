{
 "cells": [
  {
   "cell_type": "code",
   "execution_count": 1,
   "metadata": {
    "ExecuteTime": {
     "end_time": "2021-02-19T05:13:01.356056Z",
     "start_time": "2021-02-19T05:12:58.511357Z"
    }
   },
   "outputs": [],
   "source": [
    "from pyspark.sql import SparkSession\n",
    "ss = SparkSession.builder.getOrCreate()"
   ]
  },
  {
   "cell_type": "code",
   "execution_count": 2,
   "metadata": {
    "ExecuteTime": {
     "end_time": "2021-02-19T05:13:13.201274Z",
     "start_time": "2021-02-19T05:13:02.288117Z"
    }
   },
   "outputs": [
    {
     "name": "stdout",
     "output_type": "stream",
     "text": [
      "Connecting to H2O server at http://192.168.0.126:54329 ... successful.\n"
     ]
    },
    {
     "data": {
      "text/html": [
       "<div style=\"overflow:auto\"><table style=\"width:50%\"><tr><td>H2O_cluster_uptime:</td>\n",
       "<td>14 secs</td></tr>\n",
       "<tr><td>H2O_cluster_timezone:</td>\n",
       "<td>America/Los_Angeles</td></tr>\n",
       "<tr><td>H2O_data_parsing_timezone:</td>\n",
       "<td>UTC</td></tr>\n",
       "<tr><td>H2O_cluster_version:</td>\n",
       "<td>3.32.0.4</td></tr>\n",
       "<tr><td>H2O_cluster_version_age:</td>\n",
       "<td>18 days </td></tr>\n",
       "<tr><td>H2O_cluster_name:</td>\n",
       "<td>sparkling-water-dwoodbridge_local-1613776045579</td></tr>\n",
       "<tr><td>H2O_cluster_total_nodes:</td>\n",
       "<td>1</td></tr>\n",
       "<tr><td>H2O_cluster_free_memory:</td>\n",
       "<td>813 Mb</td></tr>\n",
       "<tr><td>H2O_cluster_total_cores:</td>\n",
       "<td>16</td></tr>\n",
       "<tr><td>H2O_cluster_allowed_cores:</td>\n",
       "<td>16</td></tr>\n",
       "<tr><td>H2O_cluster_status:</td>\n",
       "<td>locked, healthy</td></tr>\n",
       "<tr><td>H2O_connection_url:</td>\n",
       "<td>http://192.168.0.126:54329</td></tr>\n",
       "<tr><td>H2O_connection_proxy:</td>\n",
       "<td>null</td></tr>\n",
       "<tr><td>H2O_internal_security:</td>\n",
       "<td>False</td></tr>\n",
       "<tr><td>H2O_API_Extensions:</td>\n",
       "<td>XGBoost, Algos, Amazon S3, Sparkling Water REST API Extensions, AutoML, Core V3, TargetEncoder, Core V4</td></tr>\n",
       "<tr><td>Python_version:</td>\n",
       "<td>3.8.2 final</td></tr></table></div>"
      ],
      "text/plain": [
       "--------------------------  -------------------------------------------------------------------------------------------------------\n",
       "H2O_cluster_uptime:         14 secs\n",
       "H2O_cluster_timezone:       America/Los_Angeles\n",
       "H2O_data_parsing_timezone:  UTC\n",
       "H2O_cluster_version:        3.32.0.4\n",
       "H2O_cluster_version_age:    18 days\n",
       "H2O_cluster_name:           sparkling-water-dwoodbridge_local-1613776045579\n",
       "H2O_cluster_total_nodes:    1\n",
       "H2O_cluster_free_memory:    813 Mb\n",
       "H2O_cluster_total_cores:    16\n",
       "H2O_cluster_allowed_cores:  16\n",
       "H2O_cluster_status:         locked, healthy\n",
       "H2O_connection_url:         http://192.168.0.126:54329\n",
       "H2O_connection_proxy:       null\n",
       "H2O_internal_security:      False\n",
       "H2O_API_Extensions:         XGBoost, Algos, Amazon S3, Sparkling Water REST API Extensions, AutoML, Core V3, TargetEncoder, Core V4\n",
       "Python_version:             3.8.2 final\n",
       "--------------------------  -------------------------------------------------------------------------------------------------------"
      ]
     },
     "metadata": {},
     "output_type": "display_data"
    },
    {
     "name": "stdout",
     "output_type": "stream",
     "text": [
      "\n",
      "Sparkling Water Context:\n",
      " * Sparkling Water Version: 3.32.0.4-1-3.0\n",
      " * H2O name: sparkling-water-dwoodbridge_local-1613776045579\n",
      " * cluster size: 1\n",
      " * list of used nodes:\n",
      "  (executorId, host, port)\n",
      "  ------------------------\n",
      "  (0,192.168.0.126,54323)\n",
      "  ------------------------\n",
      "\n",
      "  Open H2O Flow in browser: http://192.168.0.126:54329 (CMD + click in Mac OSX)\n",
      "\n",
      "    \n"
     ]
    }
   ],
   "source": [
    "from pysparkling import *\n",
    "hc = H2OContext.getOrCreate()"
   ]
  },
  {
   "cell_type": "markdown",
   "metadata": {},
   "source": [
    "## Initialize H2OContext"
   ]
  },
  {
   "cell_type": "code",
   "execution_count": 3,
   "metadata": {
    "ExecuteTime": {
     "end_time": "2021-02-19T05:07:39.144134Z",
     "start_time": "2021-02-19T05:07:39.137706Z"
    }
   },
   "outputs": [
    {
     "name": "stdout",
     "output_type": "stream",
     "text": [
      "\n",
      "Sparkling Water Context:\n",
      " * Sparkling Water Version: 3.32.0.4-1-3.0\n",
      " * H2O name: sparkling-water-dwoodbridge_local-1613776045579\n",
      " * cluster size: 1\n",
      " * list of used nodes:\n",
      "  (executorId, host, port)\n",
      "  ------------------------\n",
      "  (0,192.168.0.126,54323)\n",
      "  ------------------------\n",
      "\n",
      "  Open H2O Flow in browser: http://192.168.0.126:54329 (CMD + click in Mac OSX)\n",
      "\n",
      "    \n"
     ]
    },
    {
     "data": {
      "text/plain": []
     },
     "execution_count": 3,
     "metadata": {},
     "output_type": "execute_result"
    }
   ],
   "source": [
    "hc"
   ]
  },
  {
   "cell_type": "markdown",
   "metadata": {},
   "source": [
    "## Create H2ODataFrame"
   ]
  },
  {
   "cell_type": "markdown",
   "metadata": {},
   "source": [
    "### 1. Create from RDD"
   ]
  },
  {
   "cell_type": "code",
   "execution_count": 4,
   "metadata": {},
   "outputs": [],
   "source": [
    "sc = ss.sparkContext\n",
    "\n",
    "def toDoubleSafe(v):\n",
    "    try:\n",
    "        return float(v)\n",
    "    except ValueError:\n",
    "        return str(v) #if it is not a float type return as a string.\n",
    "\n",
    "\n",
    "#load and convert the data\n",
    "census_raw = sc.textFile(\"../Data/adult.raw\", 4).map(lambda x:  x.split(\", \"))\n",
    "census_raw = census_raw.map(lambda row:  [toDoubleSafe(x) for x in row])"
   ]
  },
  {
   "cell_type": "code",
   "execution_count": 5,
   "metadata": {},
   "outputs": [],
   "source": [
    "census_h2o = hc.asH2OFrame(census_raw, \"census\")"
   ]
  },
  {
   "cell_type": "code",
   "execution_count": 6,
   "metadata": {},
   "outputs": [
    {
     "data": {
      "text/html": [
       "<table>\n",
       "<thead>\n",
       "<tr><th style=\"text-align: right;\">  age</th><th>capital_gain    </th><th style=\"text-align: right;\">  capital_loss</th><th>education  </th><th>fnlwgt               </th><th>hours_per_week   </th><th>income       </th><th>marital_status  </th><th>native_country  </th><th style=\"text-align: right;\">  occupation</th><th style=\"text-align: right;\">  race</th><th style=\"text-align: right;\">  relationship</th><th>sex          </th><th>workclass  </th></tr>\n",
       "</thead>\n",
       "<tbody>\n",
       "<tr><td style=\"text-align: right;\">   39</td><td>State-gov       </td><td style=\"text-align: right;\">         77516</td><td>Bachelors  </td><td>Never-married        </td><td>Adm-clerical     </td><td>Not-in-family</td><td>White           </td><td>Male            </td><td style=\"text-align: right;\">        2174</td><td style=\"text-align: right;\">     0</td><td style=\"text-align: right;\">            40</td><td>United-States</td><td>&lt;=50K      </td></tr>\n",
       "<tr><td style=\"text-align: right;\">   50</td><td>Self-emp-not-inc</td><td style=\"text-align: right;\">         83311</td><td>Bachelors  </td><td>Married-civ-spouse   </td><td>Exec-managerial  </td><td>Husband      </td><td>White           </td><td>Male            </td><td style=\"text-align: right;\">           0</td><td style=\"text-align: right;\">     0</td><td style=\"text-align: right;\">            13</td><td>United-States</td><td>&lt;=50K      </td></tr>\n",
       "<tr><td style=\"text-align: right;\">   38</td><td>Private         </td><td style=\"text-align: right;\">        215646</td><td>HS-grad    </td><td>Divorced             </td><td>Handlers-cleaners</td><td>Not-in-family</td><td>White           </td><td>Male            </td><td style=\"text-align: right;\">           0</td><td style=\"text-align: right;\">     0</td><td style=\"text-align: right;\">            40</td><td>United-States</td><td>&lt;=50K      </td></tr>\n",
       "<tr><td style=\"text-align: right;\">   53</td><td>Private         </td><td style=\"text-align: right;\">        234721</td><td>11th       </td><td>Married-civ-spouse   </td><td>Handlers-cleaners</td><td>Husband      </td><td>Black           </td><td>Male            </td><td style=\"text-align: right;\">           0</td><td style=\"text-align: right;\">     0</td><td style=\"text-align: right;\">            40</td><td>United-States</td><td>&lt;=50K      </td></tr>\n",
       "<tr><td style=\"text-align: right;\">   28</td><td>Private         </td><td style=\"text-align: right;\">        338409</td><td>Bachelors  </td><td>Married-civ-spouse   </td><td>Prof-specialty   </td><td>Wife         </td><td>Black           </td><td>Female          </td><td style=\"text-align: right;\">           0</td><td style=\"text-align: right;\">     0</td><td style=\"text-align: right;\">            40</td><td>Cuba         </td><td>&lt;=50K      </td></tr>\n",
       "<tr><td style=\"text-align: right;\">   37</td><td>Private         </td><td style=\"text-align: right;\">        284582</td><td>Masters    </td><td>Married-civ-spouse   </td><td>Exec-managerial  </td><td>Wife         </td><td>White           </td><td>Female          </td><td style=\"text-align: right;\">           0</td><td style=\"text-align: right;\">     0</td><td style=\"text-align: right;\">            40</td><td>United-States</td><td>&lt;=50K      </td></tr>\n",
       "<tr><td style=\"text-align: right;\">   49</td><td>Private         </td><td style=\"text-align: right;\">        160187</td><td>9th        </td><td>Married-spouse-absent</td><td>Other-service    </td><td>Not-in-family</td><td>Black           </td><td>Female          </td><td style=\"text-align: right;\">           0</td><td style=\"text-align: right;\">     0</td><td style=\"text-align: right;\">            16</td><td>Jamaica      </td><td>&lt;=50K      </td></tr>\n",
       "<tr><td style=\"text-align: right;\">   52</td><td>Self-emp-not-inc</td><td style=\"text-align: right;\">        209642</td><td>HS-grad    </td><td>Married-civ-spouse   </td><td>Exec-managerial  </td><td>Husband      </td><td>White           </td><td>Male            </td><td style=\"text-align: right;\">           0</td><td style=\"text-align: right;\">     0</td><td style=\"text-align: right;\">            45</td><td>United-States</td><td>&gt;50K       </td></tr>\n",
       "<tr><td style=\"text-align: right;\">   31</td><td>Private         </td><td style=\"text-align: right;\">         45781</td><td>Masters    </td><td>Never-married        </td><td>Prof-specialty   </td><td>Not-in-family</td><td>White           </td><td>Female          </td><td style=\"text-align: right;\">       14084</td><td style=\"text-align: right;\">     0</td><td style=\"text-align: right;\">            50</td><td>United-States</td><td>&gt;50K       </td></tr>\n",
       "<tr><td style=\"text-align: right;\">   42</td><td>Private         </td><td style=\"text-align: right;\">        159449</td><td>Bachelors  </td><td>Married-civ-spouse   </td><td>Exec-managerial  </td><td>Husband      </td><td>White           </td><td>Male            </td><td style=\"text-align: right;\">        5178</td><td style=\"text-align: right;\">     0</td><td style=\"text-align: right;\">            40</td><td>United-States</td><td>&gt;50K       </td></tr>\n",
       "</tbody>\n",
       "</table>"
      ]
     },
     "metadata": {},
     "output_type": "display_data"
    },
    {
     "data": {
      "text/plain": []
     },
     "execution_count": 6,
     "metadata": {},
     "output_type": "execute_result"
    }
   ],
   "source": [
    "census_h2o.set_names([\"age\", \"capital_gain\", \"capital_loss\", \"education\", \"fnlwgt\", \"hours_per_week\", \"income\", \"marital_status\", \"native_country\", \"occupation\", \"race\", \"relationship\", \"sex\", \"workclass\"])"
   ]
  },
  {
   "cell_type": "markdown",
   "metadata": {},
   "source": [
    "## H2OFrame Description"
   ]
  },
  {
   "cell_type": "code",
   "execution_count": 7,
   "metadata": {},
   "outputs": [
    {
     "data": {
      "text/html": [
       "<table>\n",
       "<thead>\n",
       "<tr><th>       </th><th>age               </th><th>capital_gain    </th><th>capital_loss      </th><th>education  </th><th>fnlwgt               </th><th>hours_per_week   </th><th>income       </th><th>marital_status  </th><th>native_country  </th><th>occupation        </th><th>race              </th><th>relationship      </th><th>sex          </th><th>workclass  </th></tr>\n",
       "</thead>\n",
       "<tbody>\n",
       "<tr><td>type   </td><td>int               </td><td>enum            </td><td>int               </td><td>enum       </td><td>enum                 </td><td>enum             </td><td>enum         </td><td>enum            </td><td>enum            </td><td>int               </td><td>int               </td><td>int               </td><td>enum         </td><td>enum       </td></tr>\n",
       "<tr><td>mins   </td><td>17.0              </td><td>                </td><td>12285.0           </td><td>           </td><td>                     </td><td>                 </td><td>             </td><td>                </td><td>                </td><td>0.0               </td><td>0.0               </td><td>1.0               </td><td>             </td><td>           </td></tr>\n",
       "<tr><td>mean   </td><td>38.64358543876177 </td><td>                </td><td>189664.13459727296</td><td>           </td><td>                     </td><td>                 </td><td>             </td><td>                </td><td>                </td><td>1079.0676262233324</td><td>87.50231358257236 </td><td>40.42238237582413 </td><td>             </td><td>           </td></tr>\n",
       "<tr><td>maxs   </td><td>90.0              </td><td>                </td><td>1490400.0         </td><td>           </td><td>                     </td><td>                 </td><td>             </td><td>                </td><td>                </td><td>99999.0           </td><td>4356.0            </td><td>99.0              </td><td>             </td><td>           </td></tr>\n",
       "<tr><td>sigma  </td><td>13.710509934443552</td><td>                </td><td>105604.02542315725</td><td>           </td><td>                     </td><td>                 </td><td>             </td><td>                </td><td>                </td><td>7452.019057655393 </td><td>403.00455212435895</td><td>12.391444024252296</td><td>             </td><td>           </td></tr>\n",
       "<tr><td>zeros  </td><td>0                 </td><td>                </td><td>0                 </td><td>           </td><td>                     </td><td>                 </td><td>             </td><td>                </td><td>                </td><td>44807             </td><td>46560             </td><td>0                 </td><td>             </td><td>           </td></tr>\n",
       "<tr><td>missing</td><td>0                 </td><td>0               </td><td>0                 </td><td>0          </td><td>0                    </td><td>0                </td><td>0            </td><td>0               </td><td>0               </td><td>0                 </td><td>0                 </td><td>0                 </td><td>0            </td><td>0          </td></tr>\n",
       "<tr><td>0      </td><td>39.0              </td><td>State-gov       </td><td>77516.0           </td><td>Bachelors  </td><td>Never-married        </td><td>Adm-clerical     </td><td>Not-in-family</td><td>White           </td><td>Male            </td><td>2174.0            </td><td>0.0               </td><td>40.0              </td><td>United-States</td><td>&lt;=50K      </td></tr>\n",
       "<tr><td>1      </td><td>50.0              </td><td>Self-emp-not-inc</td><td>83311.0           </td><td>Bachelors  </td><td>Married-civ-spouse   </td><td>Exec-managerial  </td><td>Husband      </td><td>White           </td><td>Male            </td><td>0.0               </td><td>0.0               </td><td>13.0              </td><td>United-States</td><td>&lt;=50K      </td></tr>\n",
       "<tr><td>2      </td><td>38.0              </td><td>Private         </td><td>215646.0          </td><td>HS-grad    </td><td>Divorced             </td><td>Handlers-cleaners</td><td>Not-in-family</td><td>White           </td><td>Male            </td><td>0.0               </td><td>0.0               </td><td>40.0              </td><td>United-States</td><td>&lt;=50K      </td></tr>\n",
       "<tr><td>3      </td><td>53.0              </td><td>Private         </td><td>234721.0          </td><td>11th       </td><td>Married-civ-spouse   </td><td>Handlers-cleaners</td><td>Husband      </td><td>Black           </td><td>Male            </td><td>0.0               </td><td>0.0               </td><td>40.0              </td><td>United-States</td><td>&lt;=50K      </td></tr>\n",
       "<tr><td>4      </td><td>28.0              </td><td>Private         </td><td>338409.0          </td><td>Bachelors  </td><td>Married-civ-spouse   </td><td>Prof-specialty   </td><td>Wife         </td><td>Black           </td><td>Female          </td><td>0.0               </td><td>0.0               </td><td>40.0              </td><td>Cuba         </td><td>&lt;=50K      </td></tr>\n",
       "<tr><td>5      </td><td>37.0              </td><td>Private         </td><td>284582.0          </td><td>Masters    </td><td>Married-civ-spouse   </td><td>Exec-managerial  </td><td>Wife         </td><td>White           </td><td>Female          </td><td>0.0               </td><td>0.0               </td><td>40.0              </td><td>United-States</td><td>&lt;=50K      </td></tr>\n",
       "<tr><td>6      </td><td>49.0              </td><td>Private         </td><td>160187.0          </td><td>9th        </td><td>Married-spouse-absent</td><td>Other-service    </td><td>Not-in-family</td><td>Black           </td><td>Female          </td><td>0.0               </td><td>0.0               </td><td>16.0              </td><td>Jamaica      </td><td>&lt;=50K      </td></tr>\n",
       "<tr><td>7      </td><td>52.0              </td><td>Self-emp-not-inc</td><td>209642.0          </td><td>HS-grad    </td><td>Married-civ-spouse   </td><td>Exec-managerial  </td><td>Husband      </td><td>White           </td><td>Male            </td><td>0.0               </td><td>0.0               </td><td>45.0              </td><td>United-States</td><td>&gt;50K       </td></tr>\n",
       "<tr><td>8      </td><td>31.0              </td><td>Private         </td><td>45781.0           </td><td>Masters    </td><td>Never-married        </td><td>Prof-specialty   </td><td>Not-in-family</td><td>White           </td><td>Female          </td><td>14084.0           </td><td>0.0               </td><td>50.0              </td><td>United-States</td><td>&gt;50K       </td></tr>\n",
       "<tr><td>9      </td><td>42.0              </td><td>Private         </td><td>159449.0          </td><td>Bachelors  </td><td>Married-civ-spouse   </td><td>Exec-managerial  </td><td>Husband      </td><td>White           </td><td>Male            </td><td>5178.0            </td><td>0.0               </td><td>40.0              </td><td>United-States</td><td>&gt;50K       </td></tr>\n",
       "</tbody>\n",
       "</table>"
      ]
     },
     "metadata": {},
     "output_type": "display_data"
    }
   ],
   "source": [
    "census_h2o.summary()"
   ]
  },
  {
   "cell_type": "code",
   "execution_count": 8,
   "metadata": {},
   "outputs": [
    {
     "name": "stdout",
     "output_type": "stream",
     "text": [
      "Rows:48842\n",
      "Cols:14\n",
      "\n",
      "\n"
     ]
    },
    {
     "data": {
      "text/html": [
       "<table>\n",
       "<thead>\n",
       "<tr><th>       </th><th>age               </th><th>capital_gain    </th><th>capital_loss      </th><th>education  </th><th>fnlwgt               </th><th>hours_per_week   </th><th>income       </th><th>marital_status  </th><th>native_country  </th><th>occupation        </th><th>race              </th><th>relationship      </th><th>sex          </th><th>workclass  </th></tr>\n",
       "</thead>\n",
       "<tbody>\n",
       "<tr><td>type   </td><td>int               </td><td>enum            </td><td>int               </td><td>enum       </td><td>enum                 </td><td>enum             </td><td>enum         </td><td>enum            </td><td>enum            </td><td>int               </td><td>int               </td><td>int               </td><td>enum         </td><td>enum       </td></tr>\n",
       "<tr><td>mins   </td><td>17.0              </td><td>                </td><td>12285.0           </td><td>           </td><td>                     </td><td>                 </td><td>             </td><td>                </td><td>                </td><td>0.0               </td><td>0.0               </td><td>1.0               </td><td>             </td><td>           </td></tr>\n",
       "<tr><td>mean   </td><td>38.64358543876177 </td><td>                </td><td>189664.13459727296</td><td>           </td><td>                     </td><td>                 </td><td>             </td><td>                </td><td>                </td><td>1079.0676262233324</td><td>87.50231358257236 </td><td>40.42238237582413 </td><td>             </td><td>           </td></tr>\n",
       "<tr><td>maxs   </td><td>90.0              </td><td>                </td><td>1490400.0         </td><td>           </td><td>                     </td><td>                 </td><td>             </td><td>                </td><td>                </td><td>99999.0           </td><td>4356.0            </td><td>99.0              </td><td>             </td><td>           </td></tr>\n",
       "<tr><td>sigma  </td><td>13.710509934443552</td><td>                </td><td>105604.02542315725</td><td>           </td><td>                     </td><td>                 </td><td>             </td><td>                </td><td>                </td><td>7452.019057655393 </td><td>403.00455212435895</td><td>12.391444024252296</td><td>             </td><td>           </td></tr>\n",
       "<tr><td>zeros  </td><td>0                 </td><td>                </td><td>0                 </td><td>           </td><td>                     </td><td>                 </td><td>             </td><td>                </td><td>                </td><td>44807             </td><td>46560             </td><td>0                 </td><td>             </td><td>           </td></tr>\n",
       "<tr><td>missing</td><td>0                 </td><td>0               </td><td>0                 </td><td>0          </td><td>0                    </td><td>0                </td><td>0            </td><td>0               </td><td>0               </td><td>0                 </td><td>0                 </td><td>0                 </td><td>0            </td><td>0          </td></tr>\n",
       "<tr><td>0      </td><td>39.0              </td><td>State-gov       </td><td>77516.0           </td><td>Bachelors  </td><td>Never-married        </td><td>Adm-clerical     </td><td>Not-in-family</td><td>White           </td><td>Male            </td><td>2174.0            </td><td>0.0               </td><td>40.0              </td><td>United-States</td><td>&lt;=50K      </td></tr>\n",
       "<tr><td>1      </td><td>50.0              </td><td>Self-emp-not-inc</td><td>83311.0           </td><td>Bachelors  </td><td>Married-civ-spouse   </td><td>Exec-managerial  </td><td>Husband      </td><td>White           </td><td>Male            </td><td>0.0               </td><td>0.0               </td><td>13.0              </td><td>United-States</td><td>&lt;=50K      </td></tr>\n",
       "<tr><td>2      </td><td>38.0              </td><td>Private         </td><td>215646.0          </td><td>HS-grad    </td><td>Divorced             </td><td>Handlers-cleaners</td><td>Not-in-family</td><td>White           </td><td>Male            </td><td>0.0               </td><td>0.0               </td><td>40.0              </td><td>United-States</td><td>&lt;=50K      </td></tr>\n",
       "<tr><td>3      </td><td>53.0              </td><td>Private         </td><td>234721.0          </td><td>11th       </td><td>Married-civ-spouse   </td><td>Handlers-cleaners</td><td>Husband      </td><td>Black           </td><td>Male            </td><td>0.0               </td><td>0.0               </td><td>40.0              </td><td>United-States</td><td>&lt;=50K      </td></tr>\n",
       "<tr><td>4      </td><td>28.0              </td><td>Private         </td><td>338409.0          </td><td>Bachelors  </td><td>Married-civ-spouse   </td><td>Prof-specialty   </td><td>Wife         </td><td>Black           </td><td>Female          </td><td>0.0               </td><td>0.0               </td><td>40.0              </td><td>Cuba         </td><td>&lt;=50K      </td></tr>\n",
       "<tr><td>5      </td><td>37.0              </td><td>Private         </td><td>284582.0          </td><td>Masters    </td><td>Married-civ-spouse   </td><td>Exec-managerial  </td><td>Wife         </td><td>White           </td><td>Female          </td><td>0.0               </td><td>0.0               </td><td>40.0              </td><td>United-States</td><td>&lt;=50K      </td></tr>\n",
       "<tr><td>6      </td><td>49.0              </td><td>Private         </td><td>160187.0          </td><td>9th        </td><td>Married-spouse-absent</td><td>Other-service    </td><td>Not-in-family</td><td>Black           </td><td>Female          </td><td>0.0               </td><td>0.0               </td><td>16.0              </td><td>Jamaica      </td><td>&lt;=50K      </td></tr>\n",
       "<tr><td>7      </td><td>52.0              </td><td>Self-emp-not-inc</td><td>209642.0          </td><td>HS-grad    </td><td>Married-civ-spouse   </td><td>Exec-managerial  </td><td>Husband      </td><td>White           </td><td>Male            </td><td>0.0               </td><td>0.0               </td><td>45.0              </td><td>United-States</td><td>&gt;50K       </td></tr>\n",
       "<tr><td>8      </td><td>31.0              </td><td>Private         </td><td>45781.0           </td><td>Masters    </td><td>Never-married        </td><td>Prof-specialty   </td><td>Not-in-family</td><td>White           </td><td>Female          </td><td>14084.0           </td><td>0.0               </td><td>50.0              </td><td>United-States</td><td>&gt;50K       </td></tr>\n",
       "<tr><td>9      </td><td>42.0              </td><td>Private         </td><td>159449.0          </td><td>Bachelors  </td><td>Married-civ-spouse   </td><td>Exec-managerial  </td><td>Husband      </td><td>White           </td><td>Male            </td><td>5178.0            </td><td>0.0               </td><td>40.0              </td><td>United-States</td><td>&gt;50K       </td></tr>\n",
       "</tbody>\n",
       "</table>"
      ]
     },
     "metadata": {},
     "output_type": "display_data"
    }
   ],
   "source": [
    "census_h2o.describe()"
   ]
  },
  {
   "cell_type": "code",
   "execution_count": 9,
   "metadata": {},
   "outputs": [
    {
     "data": {
      "text/plain": [
       "(48842, 14)"
      ]
     },
     "execution_count": 9,
     "metadata": {},
     "output_type": "execute_result"
    }
   ],
   "source": [
    "census_h2o.shape"
   ]
  },
  {
   "cell_type": "code",
   "execution_count": 10,
   "metadata": {},
   "outputs": [
    {
     "data": {
      "text/plain": [
       "['age',\n",
       " 'capital_gain',\n",
       " 'capital_loss',\n",
       " 'education',\n",
       " 'fnlwgt',\n",
       " 'hours_per_week',\n",
       " 'income',\n",
       " 'marital_status',\n",
       " 'native_country',\n",
       " 'occupation',\n",
       " 'race',\n",
       " 'relationship',\n",
       " 'sex',\n",
       " 'workclass']"
      ]
     },
     "execution_count": 10,
     "metadata": {},
     "output_type": "execute_result"
    }
   ],
   "source": [
    "census_h2o.columns"
   ]
  },
  {
   "cell_type": "code",
   "execution_count": 11,
   "metadata": {},
   "outputs": [
    {
     "data": {
      "text/plain": [
       "{'age': 'int',\n",
       " 'capital_gain': 'enum',\n",
       " 'capital_loss': 'int',\n",
       " 'education': 'enum',\n",
       " 'fnlwgt': 'enum',\n",
       " 'hours_per_week': 'enum',\n",
       " 'income': 'enum',\n",
       " 'marital_status': 'enum',\n",
       " 'native_country': 'enum',\n",
       " 'occupation': 'int',\n",
       " 'race': 'int',\n",
       " 'relationship': 'int',\n",
       " 'sex': 'enum',\n",
       " 'workclass': 'enum'}"
      ]
     },
     "execution_count": 11,
     "metadata": {},
     "output_type": "execute_result"
    }
   ],
   "source": [
    "census_h2o.types"
   ]
  },
  {
   "cell_type": "code",
   "execution_count": 12,
   "metadata": {},
   "outputs": [
    {
     "data": {
      "text/plain": [
       "[0.0, 2.0, 9.0, 10.0, 11.0]"
      ]
     },
     "execution_count": 12,
     "metadata": {},
     "output_type": "execute_result"
    }
   ],
   "source": [
    "census_h2o.columns_by_type(coltype='numeric')"
   ]
  },
  {
   "cell_type": "code",
   "execution_count": 13,
   "metadata": {},
   "outputs": [
    {
     "data": {
      "text/plain": [
       "[]"
      ]
     },
     "execution_count": 13,
     "metadata": {},
     "output_type": "execute_result"
    }
   ],
   "source": [
    "census_h2o.columns_by_type(coltype='string')"
   ]
  },
  {
   "cell_type": "markdown",
   "metadata": {},
   "source": [
    "## Convert H2OFrame to Spark DataFrame, RDD"
   ]
  },
  {
   "cell_type": "code",
   "execution_count": 14,
   "metadata": {},
   "outputs": [],
   "source": [
    "census_df = hc.asSparkFrame(census_h2o)"
   ]
  },
  {
   "cell_type": "code",
   "execution_count": 15,
   "metadata": {},
   "outputs": [
    {
     "name": "stdout",
     "output_type": "stream",
     "text": [
      "+---+----------------+------------+---------+------------------+-----------------+-------------+--------------+--------------+----------+----+------------+-------------+---------+\n",
      "|age|    capital_gain|capital_loss|education|            fnlwgt|   hours_per_week|       income|marital_status|native_country|occupation|race|relationship|          sex|workclass|\n",
      "+---+----------------+------------+---------+------------------+-----------------+-------------+--------------+--------------+----------+----+------------+-------------+---------+\n",
      "| 39|       State-gov|       77516|Bachelors|     Never-married|     Adm-clerical|Not-in-family|         White|          Male|      2174|   0|          40|United-States|    <=50K|\n",
      "| 50|Self-emp-not-inc|       83311|Bachelors|Married-civ-spouse|  Exec-managerial|      Husband|         White|          Male|         0|   0|          13|United-States|    <=50K|\n",
      "| 38|         Private|      215646|  HS-grad|          Divorced|Handlers-cleaners|Not-in-family|         White|          Male|         0|   0|          40|United-States|    <=50K|\n",
      "| 53|         Private|      234721|     11th|Married-civ-spouse|Handlers-cleaners|      Husband|         Black|          Male|         0|   0|          40|United-States|    <=50K|\n",
      "| 28|         Private|      338409|Bachelors|Married-civ-spouse|   Prof-specialty|         Wife|         Black|        Female|         0|   0|          40|         Cuba|    <=50K|\n",
      "+---+----------------+------------+---------+------------------+-----------------+-------------+--------------+--------------+----------+----+------------+-------------+---------+\n",
      "only showing top 5 rows\n",
      "\n"
     ]
    }
   ],
   "source": [
    "census_df.show(5)"
   ]
  },
  {
   "cell_type": "code",
   "execution_count": 16,
   "metadata": {},
   "outputs": [],
   "source": [
    "census_rdd = census_df.rdd"
   ]
  },
  {
   "cell_type": "code",
   "execution_count": 17,
   "metadata": {},
   "outputs": [
    {
     "data": {
      "text/plain": [
       "[Row(age=39, capital_gain='State-gov', capital_loss=77516, education='Bachelors', fnlwgt='Never-married', hours_per_week='Adm-clerical', income='Not-in-family', marital_status='White', native_country='Male', occupation=2174, race=0, relationship=40, sex='United-States', workclass='<=50K'),\n",
       " Row(age=50, capital_gain='Self-emp-not-inc', capital_loss=83311, education='Bachelors', fnlwgt='Married-civ-spouse', hours_per_week='Exec-managerial', income='Husband', marital_status='White', native_country='Male', occupation=0, race=0, relationship=13, sex='United-States', workclass='<=50K'),\n",
       " Row(age=38, capital_gain='Private', capital_loss=215646, education='HS-grad', fnlwgt='Divorced', hours_per_week='Handlers-cleaners', income='Not-in-family', marital_status='White', native_country='Male', occupation=0, race=0, relationship=40, sex='United-States', workclass='<=50K'),\n",
       " Row(age=53, capital_gain='Private', capital_loss=234721, education='11th', fnlwgt='Married-civ-spouse', hours_per_week='Handlers-cleaners', income='Husband', marital_status='Black', native_country='Male', occupation=0, race=0, relationship=40, sex='United-States', workclass='<=50K'),\n",
       " Row(age=28, capital_gain='Private', capital_loss=338409, education='Bachelors', fnlwgt='Married-civ-spouse', hours_per_week='Prof-specialty', income='Wife', marital_status='Black', native_country='Female', occupation=0, race=0, relationship=40, sex='Cuba', workclass='<=50K')]"
      ]
     },
     "execution_count": 17,
     "metadata": {},
     "output_type": "execute_result"
    }
   ],
   "source": [
    "census_rdd.take(5)"
   ]
  },
  {
   "cell_type": "markdown",
   "metadata": {},
   "source": [
    "### 2. Create from DataFrame "
   ]
  },
  {
   "cell_type": "code",
   "execution_count": 18,
   "metadata": {},
   "outputs": [
    {
     "name": "stdout",
     "output_type": "stream",
     "text": [
      "+----+----------------+--------+---------+------------------+-----------------+-------------+-----+------+------------+------------+--------------+--------------+------+\n",
      "| age|       workclass|  fnlwgt|education|    marital_status|       occupation| relationship| race|   sex|capital_gain|capital_loss|hours_per_week|native_country|income|\n",
      "+----+----------------+--------+---------+------------------+-----------------+-------------+-----+------+------------+------------+--------------+--------------+------+\n",
      "|39.0|       State-gov| 77516.0|Bachelors|     Never-married|     Adm-clerical|Not-in-family|White|  Male|      2174.0|         0.0|          40.0| United-States| <=50K|\n",
      "|50.0|Self-emp-not-inc| 83311.0|Bachelors|Married-civ-spouse|  Exec-managerial|      Husband|White|  Male|         0.0|         0.0|          13.0| United-States| <=50K|\n",
      "|38.0|         Private|215646.0|  HS-grad|          Divorced|Handlers-cleaners|Not-in-family|White|  Male|         0.0|         0.0|          40.0| United-States| <=50K|\n",
      "|53.0|         Private|234721.0|     11th|Married-civ-spouse|Handlers-cleaners|      Husband|Black|  Male|         0.0|         0.0|          40.0| United-States| <=50K|\n",
      "|28.0|         Private|338409.0|Bachelors|Married-civ-spouse|   Prof-specialty|         Wife|Black|Female|         0.0|         0.0|          40.0|          Cuba| <=50K|\n",
      "+----+----------------+--------+---------+------------------+-----------------+-------------+-----+------+------------+------------+--------------+--------------+------+\n",
      "only showing top 5 rows\n",
      "\n"
     ]
    }
   ],
   "source": [
    "from pyspark.sql.types import *\n",
    "adultschema = StructType([\n",
    "    StructField(\"age\",DoubleType(),True),\n",
    "    StructField(\"workclass\",StringType(),True),\n",
    "    StructField(\"fnlwgt\",DoubleType(),True),\n",
    "    StructField(\"education\",StringType(),True),\n",
    "    StructField(\"marital_status\",StringType(),True),\n",
    "    StructField(\"occupation\",StringType(),True),\n",
    "    StructField(\"relationship\",StringType(),True),\n",
    "    StructField(\"race\",StringType(),True),\n",
    "    StructField(\"sex\",StringType(),True),\n",
    "    StructField(\"capital_gain\",DoubleType(),True),\n",
    "    StructField(\"capital_loss\",DoubleType(),True),\n",
    "    StructField(\"hours_per_week\",DoubleType(),True),\n",
    "    StructField(\"native_country\",StringType(),True),\n",
    "    StructField(\"income\",StringType(),True)\n",
    "])\n",
    "\n",
    "dfraw = ss.createDataFrame(census_raw, adultschema)\n",
    "dfraw.show(5)"
   ]
  },
  {
   "cell_type": "code",
   "execution_count": 19,
   "metadata": {},
   "outputs": [],
   "source": [
    "adult_h2o = hc.asH2OFrame(dfraw, \"adult\")"
   ]
  },
  {
   "cell_type": "code",
   "execution_count": 20,
   "metadata": {},
   "outputs": [
    {
     "data": {
      "text/html": [
       "<table>\n",
       "<thead>\n",
       "<tr><th>       </th><th>age               </th><th>workclass       </th><th>fnlwgt            </th><th>education  </th><th>marital_status       </th><th>occupation       </th><th>relationship  </th><th>race  </th><th>sex   </th><th>capital_gain      </th><th>capital_loss      </th><th>hours_per_week    </th><th>native_country  </th><th>income  </th></tr>\n",
       "</thead>\n",
       "<tbody>\n",
       "<tr><td>type   </td><td>int               </td><td>enum            </td><td>int               </td><td>enum       </td><td>enum                 </td><td>enum             </td><td>enum          </td><td>enum  </td><td>enum  </td><td>int               </td><td>int               </td><td>int               </td><td>enum            </td><td>enum    </td></tr>\n",
       "<tr><td>mins   </td><td>17.0              </td><td>                </td><td>12285.0           </td><td>           </td><td>                     </td><td>                 </td><td>              </td><td>      </td><td>      </td><td>0.0               </td><td>0.0               </td><td>1.0               </td><td>                </td><td>        </td></tr>\n",
       "<tr><td>mean   </td><td>38.64358543876177 </td><td>                </td><td>189664.13459727296</td><td>           </td><td>                     </td><td>                 </td><td>              </td><td>      </td><td>      </td><td>1079.0676262233324</td><td>87.50231358257236 </td><td>40.42238237582413 </td><td>                </td><td>        </td></tr>\n",
       "<tr><td>maxs   </td><td>90.0              </td><td>                </td><td>1490400.0         </td><td>           </td><td>                     </td><td>                 </td><td>              </td><td>      </td><td>      </td><td>99999.0           </td><td>4356.0            </td><td>99.0              </td><td>                </td><td>        </td></tr>\n",
       "<tr><td>sigma  </td><td>13.710509934443552</td><td>                </td><td>105604.02542315725</td><td>           </td><td>                     </td><td>                 </td><td>              </td><td>      </td><td>      </td><td>7452.019057655393 </td><td>403.00455212435895</td><td>12.391444024252296</td><td>                </td><td>        </td></tr>\n",
       "<tr><td>zeros  </td><td>0                 </td><td>                </td><td>0                 </td><td>           </td><td>                     </td><td>                 </td><td>              </td><td>      </td><td>      </td><td>44807             </td><td>46560             </td><td>0                 </td><td>                </td><td>        </td></tr>\n",
       "<tr><td>missing</td><td>0                 </td><td>0               </td><td>0                 </td><td>0          </td><td>0                    </td><td>0                </td><td>0             </td><td>0     </td><td>0     </td><td>0                 </td><td>0                 </td><td>0                 </td><td>0               </td><td>0       </td></tr>\n",
       "<tr><td>0      </td><td>39.0              </td><td>State-gov       </td><td>77516.0           </td><td>Bachelors  </td><td>Never-married        </td><td>Adm-clerical     </td><td>Not-in-family </td><td>White </td><td>Male  </td><td>2174.0            </td><td>0.0               </td><td>40.0              </td><td>United-States   </td><td>&lt;=50K   </td></tr>\n",
       "<tr><td>1      </td><td>50.0              </td><td>Self-emp-not-inc</td><td>83311.0           </td><td>Bachelors  </td><td>Married-civ-spouse   </td><td>Exec-managerial  </td><td>Husband       </td><td>White </td><td>Male  </td><td>0.0               </td><td>0.0               </td><td>13.0              </td><td>United-States   </td><td>&lt;=50K   </td></tr>\n",
       "<tr><td>2      </td><td>38.0              </td><td>Private         </td><td>215646.0          </td><td>HS-grad    </td><td>Divorced             </td><td>Handlers-cleaners</td><td>Not-in-family </td><td>White </td><td>Male  </td><td>0.0               </td><td>0.0               </td><td>40.0              </td><td>United-States   </td><td>&lt;=50K   </td></tr>\n",
       "<tr><td>3      </td><td>53.0              </td><td>Private         </td><td>234721.0          </td><td>11th       </td><td>Married-civ-spouse   </td><td>Handlers-cleaners</td><td>Husband       </td><td>Black </td><td>Male  </td><td>0.0               </td><td>0.0               </td><td>40.0              </td><td>United-States   </td><td>&lt;=50K   </td></tr>\n",
       "<tr><td>4      </td><td>28.0              </td><td>Private         </td><td>338409.0          </td><td>Bachelors  </td><td>Married-civ-spouse   </td><td>Prof-specialty   </td><td>Wife          </td><td>Black </td><td>Female</td><td>0.0               </td><td>0.0               </td><td>40.0              </td><td>Cuba            </td><td>&lt;=50K   </td></tr>\n",
       "<tr><td>5      </td><td>37.0              </td><td>Private         </td><td>284582.0          </td><td>Masters    </td><td>Married-civ-spouse   </td><td>Exec-managerial  </td><td>Wife          </td><td>White </td><td>Female</td><td>0.0               </td><td>0.0               </td><td>40.0              </td><td>United-States   </td><td>&lt;=50K   </td></tr>\n",
       "<tr><td>6      </td><td>49.0              </td><td>Private         </td><td>160187.0          </td><td>9th        </td><td>Married-spouse-absent</td><td>Other-service    </td><td>Not-in-family </td><td>Black </td><td>Female</td><td>0.0               </td><td>0.0               </td><td>16.0              </td><td>Jamaica         </td><td>&lt;=50K   </td></tr>\n",
       "<tr><td>7      </td><td>52.0              </td><td>Self-emp-not-inc</td><td>209642.0          </td><td>HS-grad    </td><td>Married-civ-spouse   </td><td>Exec-managerial  </td><td>Husband       </td><td>White </td><td>Male  </td><td>0.0               </td><td>0.0               </td><td>45.0              </td><td>United-States   </td><td>&gt;50K    </td></tr>\n",
       "<tr><td>8      </td><td>31.0              </td><td>Private         </td><td>45781.0           </td><td>Masters    </td><td>Never-married        </td><td>Prof-specialty   </td><td>Not-in-family </td><td>White </td><td>Female</td><td>14084.0           </td><td>0.0               </td><td>50.0              </td><td>United-States   </td><td>&gt;50K    </td></tr>\n",
       "<tr><td>9      </td><td>42.0              </td><td>Private         </td><td>159449.0          </td><td>Bachelors  </td><td>Married-civ-spouse   </td><td>Exec-managerial  </td><td>Husband       </td><td>White </td><td>Male  </td><td>5178.0            </td><td>0.0               </td><td>40.0              </td><td>United-States   </td><td>&gt;50K    </td></tr>\n",
       "</tbody>\n",
       "</table>"
      ]
     },
     "metadata": {},
     "output_type": "display_data"
    }
   ],
   "source": [
    "adult_h2o.summary()"
   ]
  },
  {
   "cell_type": "markdown",
   "metadata": {},
   "source": [
    "### 3. Create from File"
   ]
  },
  {
   "cell_type": "code",
   "execution_count": 21,
   "metadata": {},
   "outputs": [
    {
     "name": "stdout",
     "output_type": "stream",
     "text": [
      "Requirement already satisfied: h2o in /Users/dwoodbridge/opt/anaconda3/envs/MSDS691/lib/python3.8/site-packages (3.32.0.4)\n",
      "Requirement already satisfied: future in /Users/dwoodbridge/opt/anaconda3/envs/MSDS691/lib/python3.8/site-packages (from h2o) (0.18.2)\n",
      "Requirement already satisfied: colorama>=0.3.8 in /Users/dwoodbridge/opt/anaconda3/envs/MSDS691/lib/python3.8/site-packages (from h2o) (0.4.3)\n",
      "Requirement already satisfied: tabulate in /Users/dwoodbridge/opt/anaconda3/envs/MSDS691/lib/python3.8/site-packages (from h2o) (0.8.8)\n",
      "Requirement already satisfied: requests in /Users/dwoodbridge/opt/anaconda3/envs/MSDS691/lib/python3.8/site-packages (from h2o) (2.25.1)\n",
      "Requirement already satisfied: urllib3<1.27,>=1.21.1 in /Users/dwoodbridge/opt/anaconda3/envs/MSDS691/lib/python3.8/site-packages (from requests->h2o) (1.25.11)\n",
      "Requirement already satisfied: chardet<5,>=3.0.2 in /Users/dwoodbridge/opt/anaconda3/envs/MSDS691/lib/python3.8/site-packages (from requests->h2o) (4.0.0)\n",
      "Requirement already satisfied: certifi>=2017.4.17 in /Users/dwoodbridge/opt/anaconda3/envs/MSDS691/lib/python3.8/site-packages (from requests->h2o) (2020.12.5)\n",
      "Requirement already satisfied: idna<3,>=2.5 in /Users/dwoodbridge/opt/anaconda3/envs/MSDS691/lib/python3.8/site-packages (from requests->h2o) (2.10)\n",
      "Note: you may need to restart the kernel to use updated packages.\n"
     ]
    }
   ],
   "source": [
    "%pip install h2o"
   ]
  },
  {
   "cell_type": "code",
   "execution_count": 22,
   "metadata": {},
   "outputs": [
    {
     "name": "stdout",
     "output_type": "stream",
     "text": [
      "Parse progress: |█████████████████████████████████████████████████████████| 100%\n"
     ]
    }
   ],
   "source": [
    "import h2o\n",
    "adult_h2o = h2o.import_file(path=\"../Data/adult.raw\")"
   ]
  },
  {
   "cell_type": "code",
   "execution_count": 23,
   "metadata": {},
   "outputs": [
    {
     "data": {
      "text/html": [
       "<table>\n",
       "<thead>\n",
       "<tr><th>       </th><th>C1                </th><th>C2              </th><th>C3                </th><th>C4       </th><th>C5                   </th><th>C6               </th><th>C7           </th><th>C8   </th><th>C9    </th><th>C10               </th><th>C11              </th><th>C12               </th><th>C13          </th><th>C14  </th></tr>\n",
       "</thead>\n",
       "<tbody>\n",
       "<tr><td>type   </td><td>int               </td><td>enum            </td><td>int               </td><td>enum     </td><td>enum                 </td><td>enum             </td><td>enum         </td><td>enum </td><td>enum  </td><td>int               </td><td>int              </td><td>int               </td><td>enum         </td><td>enum </td></tr>\n",
       "<tr><td>mins   </td><td>17.0              </td><td>                </td><td>12285.0           </td><td>         </td><td>                     </td><td>                 </td><td>             </td><td>     </td><td>      </td><td>0.0               </td><td>0.0              </td><td>1.0               </td><td>             </td><td>     </td></tr>\n",
       "<tr><td>mean   </td><td>38.64358543876172 </td><td>                </td><td>189664.13459727284</td><td>         </td><td>                     </td><td>                 </td><td>             </td><td>     </td><td>      </td><td>1079.0676262233321</td><td>87.50231358257237</td><td>40.422382375824085</td><td>             </td><td>     </td></tr>\n",
       "<tr><td>maxs   </td><td>90.0              </td><td>                </td><td>1490400.0         </td><td>         </td><td>                     </td><td>                 </td><td>             </td><td>     </td><td>      </td><td>99999.0           </td><td>4356.0           </td><td>99.0              </td><td>             </td><td>     </td></tr>\n",
       "<tr><td>sigma  </td><td>13.710509934443557</td><td>                </td><td>105604.02542315728</td><td>         </td><td>                     </td><td>                 </td><td>             </td><td>     </td><td>      </td><td>7452.019057655394 </td><td>403.004552124359 </td><td>12.391444024252307</td><td>             </td><td>     </td></tr>\n",
       "<tr><td>zeros  </td><td>0                 </td><td>                </td><td>0                 </td><td>         </td><td>                     </td><td>                 </td><td>             </td><td>     </td><td>      </td><td>44807             </td><td>46560            </td><td>0                 </td><td>             </td><td>     </td></tr>\n",
       "<tr><td>missing</td><td>0                 </td><td>0               </td><td>0                 </td><td>0        </td><td>0                    </td><td>0                </td><td>0            </td><td>0    </td><td>0     </td><td>0                 </td><td>0                </td><td>0                 </td><td>0            </td><td>0    </td></tr>\n",
       "<tr><td>0      </td><td>39.0              </td><td>State-gov       </td><td>77516.0           </td><td>Bachelors</td><td>Never-married        </td><td>Adm-clerical     </td><td>Not-in-family</td><td>White</td><td>Male  </td><td>2174.0            </td><td>0.0              </td><td>40.0              </td><td>United-States</td><td>&lt;=50K</td></tr>\n",
       "<tr><td>1      </td><td>50.0              </td><td>Self-emp-not-inc</td><td>83311.0           </td><td>Bachelors</td><td>Married-civ-spouse   </td><td>Exec-managerial  </td><td>Husband      </td><td>White</td><td>Male  </td><td>0.0               </td><td>0.0              </td><td>13.0              </td><td>United-States</td><td>&lt;=50K</td></tr>\n",
       "<tr><td>2      </td><td>38.0              </td><td>Private         </td><td>215646.0          </td><td>HS-grad  </td><td>Divorced             </td><td>Handlers-cleaners</td><td>Not-in-family</td><td>White</td><td>Male  </td><td>0.0               </td><td>0.0              </td><td>40.0              </td><td>United-States</td><td>&lt;=50K</td></tr>\n",
       "<tr><td>3      </td><td>53.0              </td><td>Private         </td><td>234721.0          </td><td>11th     </td><td>Married-civ-spouse   </td><td>Handlers-cleaners</td><td>Husband      </td><td>Black</td><td>Male  </td><td>0.0               </td><td>0.0              </td><td>40.0              </td><td>United-States</td><td>&lt;=50K</td></tr>\n",
       "<tr><td>4      </td><td>28.0              </td><td>Private         </td><td>338409.0          </td><td>Bachelors</td><td>Married-civ-spouse   </td><td>Prof-specialty   </td><td>Wife         </td><td>Black</td><td>Female</td><td>0.0               </td><td>0.0              </td><td>40.0              </td><td>Cuba         </td><td>&lt;=50K</td></tr>\n",
       "<tr><td>5      </td><td>37.0              </td><td>Private         </td><td>284582.0          </td><td>Masters  </td><td>Married-civ-spouse   </td><td>Exec-managerial  </td><td>Wife         </td><td>White</td><td>Female</td><td>0.0               </td><td>0.0              </td><td>40.0              </td><td>United-States</td><td>&lt;=50K</td></tr>\n",
       "<tr><td>6      </td><td>49.0              </td><td>Private         </td><td>160187.0          </td><td>9th      </td><td>Married-spouse-absent</td><td>Other-service    </td><td>Not-in-family</td><td>Black</td><td>Female</td><td>0.0               </td><td>0.0              </td><td>16.0              </td><td>Jamaica      </td><td>&lt;=50K</td></tr>\n",
       "<tr><td>7      </td><td>52.0              </td><td>Self-emp-not-inc</td><td>209642.0          </td><td>HS-grad  </td><td>Married-civ-spouse   </td><td>Exec-managerial  </td><td>Husband      </td><td>White</td><td>Male  </td><td>0.0               </td><td>0.0              </td><td>45.0              </td><td>United-States</td><td>&gt;50K </td></tr>\n",
       "<tr><td>8      </td><td>31.0              </td><td>Private         </td><td>45781.0           </td><td>Masters  </td><td>Never-married        </td><td>Prof-specialty   </td><td>Not-in-family</td><td>White</td><td>Female</td><td>14084.0           </td><td>0.0              </td><td>50.0              </td><td>United-States</td><td>&gt;50K </td></tr>\n",
       "<tr><td>9      </td><td>42.0              </td><td>Private         </td><td>159449.0          </td><td>Bachelors</td><td>Married-civ-spouse   </td><td>Exec-managerial  </td><td>Husband      </td><td>White</td><td>Male  </td><td>5178.0            </td><td>0.0              </td><td>40.0              </td><td>United-States</td><td>&gt;50K </td></tr>\n",
       "</tbody>\n",
       "</table>"
      ]
     },
     "metadata": {},
     "output_type": "display_data"
    }
   ],
   "source": [
    "adult_h2o.summary()"
   ]
  },
  {
   "cell_type": "code",
   "execution_count": 24,
   "metadata": {},
   "outputs": [
    {
     "data": {
      "text/html": [
       "<table>\n",
       "<thead>\n",
       "<tr><th style=\"text-align: right;\">  age</th><th>capital_gain    </th><th style=\"text-align: right;\">  capital_loss</th><th>education  </th><th>fnlwgt               </th><th>hours_per_week   </th><th>income       </th><th>marital_status  </th><th>native_country  </th><th style=\"text-align: right;\">  occupation</th><th style=\"text-align: right;\">  race</th><th style=\"text-align: right;\">  relationship</th><th>sex          </th><th>workclass  </th></tr>\n",
       "</thead>\n",
       "<tbody>\n",
       "<tr><td style=\"text-align: right;\">   39</td><td>State-gov       </td><td style=\"text-align: right;\">         77516</td><td>Bachelors  </td><td>Never-married        </td><td>Adm-clerical     </td><td>Not-in-family</td><td>White           </td><td>Male            </td><td style=\"text-align: right;\">        2174</td><td style=\"text-align: right;\">     0</td><td style=\"text-align: right;\">            40</td><td>United-States</td><td>&lt;=50K      </td></tr>\n",
       "<tr><td style=\"text-align: right;\">   50</td><td>Self-emp-not-inc</td><td style=\"text-align: right;\">         83311</td><td>Bachelors  </td><td>Married-civ-spouse   </td><td>Exec-managerial  </td><td>Husband      </td><td>White           </td><td>Male            </td><td style=\"text-align: right;\">           0</td><td style=\"text-align: right;\">     0</td><td style=\"text-align: right;\">            13</td><td>United-States</td><td>&lt;=50K      </td></tr>\n",
       "<tr><td style=\"text-align: right;\">   38</td><td>Private         </td><td style=\"text-align: right;\">        215646</td><td>HS-grad    </td><td>Divorced             </td><td>Handlers-cleaners</td><td>Not-in-family</td><td>White           </td><td>Male            </td><td style=\"text-align: right;\">           0</td><td style=\"text-align: right;\">     0</td><td style=\"text-align: right;\">            40</td><td>United-States</td><td>&lt;=50K      </td></tr>\n",
       "<tr><td style=\"text-align: right;\">   53</td><td>Private         </td><td style=\"text-align: right;\">        234721</td><td>11th       </td><td>Married-civ-spouse   </td><td>Handlers-cleaners</td><td>Husband      </td><td>Black           </td><td>Male            </td><td style=\"text-align: right;\">           0</td><td style=\"text-align: right;\">     0</td><td style=\"text-align: right;\">            40</td><td>United-States</td><td>&lt;=50K      </td></tr>\n",
       "<tr><td style=\"text-align: right;\">   28</td><td>Private         </td><td style=\"text-align: right;\">        338409</td><td>Bachelors  </td><td>Married-civ-spouse   </td><td>Prof-specialty   </td><td>Wife         </td><td>Black           </td><td>Female          </td><td style=\"text-align: right;\">           0</td><td style=\"text-align: right;\">     0</td><td style=\"text-align: right;\">            40</td><td>Cuba         </td><td>&lt;=50K      </td></tr>\n",
       "<tr><td style=\"text-align: right;\">   37</td><td>Private         </td><td style=\"text-align: right;\">        284582</td><td>Masters    </td><td>Married-civ-spouse   </td><td>Exec-managerial  </td><td>Wife         </td><td>White           </td><td>Female          </td><td style=\"text-align: right;\">           0</td><td style=\"text-align: right;\">     0</td><td style=\"text-align: right;\">            40</td><td>United-States</td><td>&lt;=50K      </td></tr>\n",
       "<tr><td style=\"text-align: right;\">   49</td><td>Private         </td><td style=\"text-align: right;\">        160187</td><td>9th        </td><td>Married-spouse-absent</td><td>Other-service    </td><td>Not-in-family</td><td>Black           </td><td>Female          </td><td style=\"text-align: right;\">           0</td><td style=\"text-align: right;\">     0</td><td style=\"text-align: right;\">            16</td><td>Jamaica      </td><td>&lt;=50K      </td></tr>\n",
       "<tr><td style=\"text-align: right;\">   52</td><td>Self-emp-not-inc</td><td style=\"text-align: right;\">        209642</td><td>HS-grad    </td><td>Married-civ-spouse   </td><td>Exec-managerial  </td><td>Husband      </td><td>White           </td><td>Male            </td><td style=\"text-align: right;\">           0</td><td style=\"text-align: right;\">     0</td><td style=\"text-align: right;\">            45</td><td>United-States</td><td>&gt;50K       </td></tr>\n",
       "<tr><td style=\"text-align: right;\">   31</td><td>Private         </td><td style=\"text-align: right;\">         45781</td><td>Masters    </td><td>Never-married        </td><td>Prof-specialty   </td><td>Not-in-family</td><td>White           </td><td>Female          </td><td style=\"text-align: right;\">       14084</td><td style=\"text-align: right;\">     0</td><td style=\"text-align: right;\">            50</td><td>United-States</td><td>&gt;50K       </td></tr>\n",
       "<tr><td style=\"text-align: right;\">   42</td><td>Private         </td><td style=\"text-align: right;\">        159449</td><td>Bachelors  </td><td>Married-civ-spouse   </td><td>Exec-managerial  </td><td>Husband      </td><td>White           </td><td>Male            </td><td style=\"text-align: right;\">        5178</td><td style=\"text-align: right;\">     0</td><td style=\"text-align: right;\">            40</td><td>United-States</td><td>&gt;50K       </td></tr>\n",
       "</tbody>\n",
       "</table>"
      ]
     },
     "metadata": {},
     "output_type": "display_data"
    },
    {
     "data": {
      "text/plain": []
     },
     "execution_count": 24,
     "metadata": {},
     "output_type": "execute_result"
    }
   ],
   "source": [
    "adult_h2o.set_names([\"age\", \"capital_gain\", \"capital_loss\", \"education\", \"fnlwgt\", \"hours_per_week\", \"income\", \"marital_status\", \"native_country\", \"occupation\", \"race\", \"relationship\", \"sex\", \"workclass\"])"
   ]
  },
  {
   "cell_type": "code",
   "execution_count": 25,
   "metadata": {},
   "outputs": [
    {
     "data": {
      "text/html": [
       "<table>\n",
       "<thead>\n",
       "<tr><th>       </th><th>age               </th><th>capital_gain    </th><th>capital_loss      </th><th>education  </th><th>fnlwgt               </th><th>hours_per_week   </th><th>income       </th><th>marital_status  </th><th>native_country  </th><th>occupation        </th><th>race             </th><th>relationship      </th><th>sex          </th><th>workclass  </th></tr>\n",
       "</thead>\n",
       "<tbody>\n",
       "<tr><td>type   </td><td>int               </td><td>enum            </td><td>int               </td><td>enum       </td><td>enum                 </td><td>enum             </td><td>enum         </td><td>enum            </td><td>enum            </td><td>int               </td><td>int              </td><td>int               </td><td>enum         </td><td>enum       </td></tr>\n",
       "<tr><td>mins   </td><td>17.0              </td><td>                </td><td>12285.0           </td><td>           </td><td>                     </td><td>                 </td><td>             </td><td>                </td><td>                </td><td>0.0               </td><td>0.0              </td><td>1.0               </td><td>             </td><td>           </td></tr>\n",
       "<tr><td>mean   </td><td>38.64358543876172 </td><td>                </td><td>189664.13459727284</td><td>           </td><td>                     </td><td>                 </td><td>             </td><td>                </td><td>                </td><td>1079.0676262233321</td><td>87.50231358257237</td><td>40.422382375824085</td><td>             </td><td>           </td></tr>\n",
       "<tr><td>maxs   </td><td>90.0              </td><td>                </td><td>1490400.0         </td><td>           </td><td>                     </td><td>                 </td><td>             </td><td>                </td><td>                </td><td>99999.0           </td><td>4356.0           </td><td>99.0              </td><td>             </td><td>           </td></tr>\n",
       "<tr><td>sigma  </td><td>13.710509934443557</td><td>                </td><td>105604.02542315728</td><td>           </td><td>                     </td><td>                 </td><td>             </td><td>                </td><td>                </td><td>7452.019057655394 </td><td>403.004552124359 </td><td>12.391444024252307</td><td>             </td><td>           </td></tr>\n",
       "<tr><td>zeros  </td><td>0                 </td><td>                </td><td>0                 </td><td>           </td><td>                     </td><td>                 </td><td>             </td><td>                </td><td>                </td><td>44807             </td><td>46560            </td><td>0                 </td><td>             </td><td>           </td></tr>\n",
       "<tr><td>missing</td><td>0                 </td><td>0               </td><td>0                 </td><td>0          </td><td>0                    </td><td>0                </td><td>0            </td><td>0               </td><td>0               </td><td>0                 </td><td>0                </td><td>0                 </td><td>0            </td><td>0          </td></tr>\n",
       "<tr><td>0      </td><td>39.0              </td><td>State-gov       </td><td>77516.0           </td><td>Bachelors  </td><td>Never-married        </td><td>Adm-clerical     </td><td>Not-in-family</td><td>White           </td><td>Male            </td><td>2174.0            </td><td>0.0              </td><td>40.0              </td><td>United-States</td><td>&lt;=50K      </td></tr>\n",
       "<tr><td>1      </td><td>50.0              </td><td>Self-emp-not-inc</td><td>83311.0           </td><td>Bachelors  </td><td>Married-civ-spouse   </td><td>Exec-managerial  </td><td>Husband      </td><td>White           </td><td>Male            </td><td>0.0               </td><td>0.0              </td><td>13.0              </td><td>United-States</td><td>&lt;=50K      </td></tr>\n",
       "<tr><td>2      </td><td>38.0              </td><td>Private         </td><td>215646.0          </td><td>HS-grad    </td><td>Divorced             </td><td>Handlers-cleaners</td><td>Not-in-family</td><td>White           </td><td>Male            </td><td>0.0               </td><td>0.0              </td><td>40.0              </td><td>United-States</td><td>&lt;=50K      </td></tr>\n",
       "<tr><td>3      </td><td>53.0              </td><td>Private         </td><td>234721.0          </td><td>11th       </td><td>Married-civ-spouse   </td><td>Handlers-cleaners</td><td>Husband      </td><td>Black           </td><td>Male            </td><td>0.0               </td><td>0.0              </td><td>40.0              </td><td>United-States</td><td>&lt;=50K      </td></tr>\n",
       "<tr><td>4      </td><td>28.0              </td><td>Private         </td><td>338409.0          </td><td>Bachelors  </td><td>Married-civ-spouse   </td><td>Prof-specialty   </td><td>Wife         </td><td>Black           </td><td>Female          </td><td>0.0               </td><td>0.0              </td><td>40.0              </td><td>Cuba         </td><td>&lt;=50K      </td></tr>\n",
       "<tr><td>5      </td><td>37.0              </td><td>Private         </td><td>284582.0          </td><td>Masters    </td><td>Married-civ-spouse   </td><td>Exec-managerial  </td><td>Wife         </td><td>White           </td><td>Female          </td><td>0.0               </td><td>0.0              </td><td>40.0              </td><td>United-States</td><td>&lt;=50K      </td></tr>\n",
       "<tr><td>6      </td><td>49.0              </td><td>Private         </td><td>160187.0          </td><td>9th        </td><td>Married-spouse-absent</td><td>Other-service    </td><td>Not-in-family</td><td>Black           </td><td>Female          </td><td>0.0               </td><td>0.0              </td><td>16.0              </td><td>Jamaica      </td><td>&lt;=50K      </td></tr>\n",
       "<tr><td>7      </td><td>52.0              </td><td>Self-emp-not-inc</td><td>209642.0          </td><td>HS-grad    </td><td>Married-civ-spouse   </td><td>Exec-managerial  </td><td>Husband      </td><td>White           </td><td>Male            </td><td>0.0               </td><td>0.0              </td><td>45.0              </td><td>United-States</td><td>&gt;50K       </td></tr>\n",
       "<tr><td>8      </td><td>31.0              </td><td>Private         </td><td>45781.0           </td><td>Masters    </td><td>Never-married        </td><td>Prof-specialty   </td><td>Not-in-family</td><td>White           </td><td>Female          </td><td>14084.0           </td><td>0.0              </td><td>50.0              </td><td>United-States</td><td>&gt;50K       </td></tr>\n",
       "<tr><td>9      </td><td>42.0              </td><td>Private         </td><td>159449.0          </td><td>Bachelors  </td><td>Married-civ-spouse   </td><td>Exec-managerial  </td><td>Husband      </td><td>White           </td><td>Male            </td><td>5178.0            </td><td>0.0              </td><td>40.0              </td><td>United-States</td><td>&gt;50K       </td></tr>\n",
       "</tbody>\n",
       "</table>"
      ]
     },
     "metadata": {},
     "output_type": "display_data"
    }
   ],
   "source": [
    "adult_h2o.summary()"
   ]
  },
  {
   "cell_type": "code",
   "execution_count": 26,
   "metadata": {},
   "outputs": [
    {
     "data": {
      "text/html": [
       "<table>\n",
       "<thead>\n",
       "<tr><th style=\"text-align: right;\">  age</th><th>capital_gain    </th><th style=\"text-align: right;\">  capital_loss</th><th>education  </th><th>fnlwgt               </th><th>hours_per_week   </th><th>income       </th><th>marital_status  </th><th>native_country  </th><th style=\"text-align: right;\">  occupation</th><th style=\"text-align: right;\">  race</th><th style=\"text-align: right;\">  relationship</th><th>sex          </th><th>workclass  </th></tr>\n",
       "</thead>\n",
       "<tbody>\n",
       "<tr><td style=\"text-align: right;\">   39</td><td>State-gov       </td><td style=\"text-align: right;\">         77516</td><td>Bachelors  </td><td>Never-married        </td><td>Adm-clerical     </td><td>Not-in-family</td><td>White           </td><td>Male            </td><td style=\"text-align: right;\">        2174</td><td style=\"text-align: right;\">     0</td><td style=\"text-align: right;\">            40</td><td>United-States</td><td>&lt;=50K      </td></tr>\n",
       "<tr><td style=\"text-align: right;\">   50</td><td>Self-emp-not-inc</td><td style=\"text-align: right;\">         83311</td><td>Bachelors  </td><td>Married-civ-spouse   </td><td>Exec-managerial  </td><td>Husband      </td><td>White           </td><td>Male            </td><td style=\"text-align: right;\">           0</td><td style=\"text-align: right;\">     0</td><td style=\"text-align: right;\">            13</td><td>United-States</td><td>&lt;=50K      </td></tr>\n",
       "<tr><td style=\"text-align: right;\">   38</td><td>Private         </td><td style=\"text-align: right;\">        215646</td><td>HS-grad    </td><td>Divorced             </td><td>Handlers-cleaners</td><td>Not-in-family</td><td>White           </td><td>Male            </td><td style=\"text-align: right;\">           0</td><td style=\"text-align: right;\">     0</td><td style=\"text-align: right;\">            40</td><td>United-States</td><td>&lt;=50K      </td></tr>\n",
       "<tr><td style=\"text-align: right;\">   53</td><td>Private         </td><td style=\"text-align: right;\">        234721</td><td>11th       </td><td>Married-civ-spouse   </td><td>Handlers-cleaners</td><td>Husband      </td><td>Black           </td><td>Male            </td><td style=\"text-align: right;\">           0</td><td style=\"text-align: right;\">     0</td><td style=\"text-align: right;\">            40</td><td>United-States</td><td>&lt;=50K      </td></tr>\n",
       "<tr><td style=\"text-align: right;\">   28</td><td>Private         </td><td style=\"text-align: right;\">        338409</td><td>Bachelors  </td><td>Married-civ-spouse   </td><td>Prof-specialty   </td><td>Wife         </td><td>Black           </td><td>Female          </td><td style=\"text-align: right;\">           0</td><td style=\"text-align: right;\">     0</td><td style=\"text-align: right;\">            40</td><td>Cuba         </td><td>&lt;=50K      </td></tr>\n",
       "<tr><td style=\"text-align: right;\">   37</td><td>Private         </td><td style=\"text-align: right;\">        284582</td><td>Masters    </td><td>Married-civ-spouse   </td><td>Exec-managerial  </td><td>Wife         </td><td>White           </td><td>Female          </td><td style=\"text-align: right;\">           0</td><td style=\"text-align: right;\">     0</td><td style=\"text-align: right;\">            40</td><td>United-States</td><td>&lt;=50K      </td></tr>\n",
       "<tr><td style=\"text-align: right;\">   49</td><td>Private         </td><td style=\"text-align: right;\">        160187</td><td>9th        </td><td>Married-spouse-absent</td><td>Other-service    </td><td>Not-in-family</td><td>Black           </td><td>Female          </td><td style=\"text-align: right;\">           0</td><td style=\"text-align: right;\">     0</td><td style=\"text-align: right;\">            16</td><td>Jamaica      </td><td>&lt;=50K      </td></tr>\n",
       "<tr><td style=\"text-align: right;\">   52</td><td>Self-emp-not-inc</td><td style=\"text-align: right;\">        209642</td><td>HS-grad    </td><td>Married-civ-spouse   </td><td>Exec-managerial  </td><td>Husband      </td><td>White           </td><td>Male            </td><td style=\"text-align: right;\">           0</td><td style=\"text-align: right;\">     0</td><td style=\"text-align: right;\">            45</td><td>United-States</td><td>&gt;50K       </td></tr>\n",
       "<tr><td style=\"text-align: right;\">   31</td><td>Private         </td><td style=\"text-align: right;\">         45781</td><td>Masters    </td><td>Never-married        </td><td>Prof-specialty   </td><td>Not-in-family</td><td>White           </td><td>Female          </td><td style=\"text-align: right;\">       14084</td><td style=\"text-align: right;\">     0</td><td style=\"text-align: right;\">            50</td><td>United-States</td><td>&gt;50K       </td></tr>\n",
       "<tr><td style=\"text-align: right;\">   42</td><td>Private         </td><td style=\"text-align: right;\">        159449</td><td>Bachelors  </td><td>Married-civ-spouse   </td><td>Exec-managerial  </td><td>Husband      </td><td>White           </td><td>Male            </td><td style=\"text-align: right;\">        5178</td><td style=\"text-align: right;\">     0</td><td style=\"text-align: right;\">            40</td><td>United-States</td><td>&gt;50K       </td></tr>\n",
       "</tbody>\n",
       "</table>"
      ]
     },
     "metadata": {},
     "output_type": "display_data"
    },
    {
     "data": {
      "text/plain": []
     },
     "execution_count": 26,
     "metadata": {},
     "output_type": "execute_result"
    }
   ],
   "source": [
    "adult_h2o"
   ]
  },
  {
   "cell_type": "code",
   "execution_count": 27,
   "metadata": {},
   "outputs": [],
   "source": [
    "ss.stop()"
   ]
  }
 ],
 "metadata": {
  "kernelspec": {
   "display_name": "Python 3",
   "language": "python",
   "name": "python3"
  },
  "language_info": {
   "codemirror_mode": {
    "name": "ipython",
    "version": 3
   },
   "file_extension": ".py",
   "mimetype": "text/x-python",
   "name": "python",
   "nbconvert_exporter": "python",
   "pygments_lexer": "ipython3",
   "version": "3.8.2"
  },
  "varInspector": {
   "cols": {
    "lenName": 16,
    "lenType": 16,
    "lenVar": 40
   },
   "kernels_config": {
    "python": {
     "delete_cmd_postfix": "",
     "delete_cmd_prefix": "del ",
     "library": "var_list.py",
     "varRefreshCmd": "print(var_dic_list())"
    },
    "r": {
     "delete_cmd_postfix": ") ",
     "delete_cmd_prefix": "rm(",
     "library": "var_list.r",
     "varRefreshCmd": "cat(var_dic_list()) "
    }
   },
   "types_to_exclude": [
    "module",
    "function",
    "builtin_function_or_method",
    "instance",
    "_Feature"
   ],
   "window_display": false
  }
 },
 "nbformat": 4,
 "nbformat_minor": 2
}
