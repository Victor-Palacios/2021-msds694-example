{
 "cells": [
  {
   "cell_type": "code",
   "execution_count": 1,
   "metadata": {},
   "outputs": [
    {
     "name": "stdout",
     "output_type": "stream",
     "text": [
      "Connecting to H2O server at http://192.168.0.126:54333 ... successful.\n"
     ]
    },
    {
     "data": {
      "text/html": [
       "<div style=\"overflow:auto\"><table style=\"width:50%\"><tr><td>H2O_cluster_uptime:</td>\n",
       "<td>29 secs</td></tr>\n",
       "<tr><td>H2O_cluster_timezone:</td>\n",
       "<td>America/Los_Angeles</td></tr>\n",
       "<tr><td>H2O_data_parsing_timezone:</td>\n",
       "<td>UTC</td></tr>\n",
       "<tr><td>H2O_cluster_version:</td>\n",
       "<td>3.32.0.4</td></tr>\n",
       "<tr><td>H2O_cluster_version_age:</td>\n",
       "<td>18 days </td></tr>\n",
       "<tr><td>H2O_cluster_name:</td>\n",
       "<td>sparkling-water-dwoodbridge_local-1613776045904</td></tr>\n",
       "<tr><td>H2O_cluster_total_nodes:</td>\n",
       "<td>1</td></tr>\n",
       "<tr><td>H2O_cluster_free_memory:</td>\n",
       "<td>785 Mb</td></tr>\n",
       "<tr><td>H2O_cluster_total_cores:</td>\n",
       "<td>16</td></tr>\n",
       "<tr><td>H2O_cluster_allowed_cores:</td>\n",
       "<td>16</td></tr>\n",
       "<tr><td>H2O_cluster_status:</td>\n",
       "<td>locked, healthy</td></tr>\n",
       "<tr><td>H2O_connection_url:</td>\n",
       "<td>http://192.168.0.126:54333</td></tr>\n",
       "<tr><td>H2O_connection_proxy:</td>\n",
       "<td>null</td></tr>\n",
       "<tr><td>H2O_internal_security:</td>\n",
       "<td>False</td></tr>\n",
       "<tr><td>H2O_API_Extensions:</td>\n",
       "<td>XGBoost, Algos, Amazon S3, Sparkling Water REST API Extensions, AutoML, Core V3, TargetEncoder, Core V4</td></tr>\n",
       "<tr><td>Python_version:</td>\n",
       "<td>3.8.2 final</td></tr></table></div>"
      ],
      "text/plain": [
       "--------------------------  -------------------------------------------------------------------------------------------------------\n",
       "H2O_cluster_uptime:         29 secs\n",
       "H2O_cluster_timezone:       America/Los_Angeles\n",
       "H2O_data_parsing_timezone:  UTC\n",
       "H2O_cluster_version:        3.32.0.4\n",
       "H2O_cluster_version_age:    18 days\n",
       "H2O_cluster_name:           sparkling-water-dwoodbridge_local-1613776045904\n",
       "H2O_cluster_total_nodes:    1\n",
       "H2O_cluster_free_memory:    785 Mb\n",
       "H2O_cluster_total_cores:    16\n",
       "H2O_cluster_allowed_cores:  16\n",
       "H2O_cluster_status:         locked, healthy\n",
       "H2O_connection_url:         http://192.168.0.126:54333\n",
       "H2O_connection_proxy:       null\n",
       "H2O_internal_security:      False\n",
       "H2O_API_Extensions:         XGBoost, Algos, Amazon S3, Sparkling Water REST API Extensions, AutoML, Core V3, TargetEncoder, Core V4\n",
       "Python_version:             3.8.2 final\n",
       "--------------------------  -------------------------------------------------------------------------------------------------------"
      ]
     },
     "metadata": {},
     "output_type": "display_data"
    },
    {
     "name": "stdout",
     "output_type": "stream",
     "text": [
      "\n",
      "Sparkling Water Context:\n",
      " * Sparkling Water Version: 3.32.0.4-1-3.0\n",
      " * H2O name: sparkling-water-dwoodbridge_local-1613776045904\n",
      " * cluster size: 1\n",
      " * list of used nodes:\n",
      "  (executorId, host, port)\n",
      "  ------------------------\n",
      "  (0,192.168.0.126,54321)\n",
      "  ------------------------\n",
      "\n",
      "  Open H2O Flow in browser: http://192.168.0.126:54333 (CMD + click in Mac OSX)\n",
      "\n",
      "    \n"
     ]
    }
   ],
   "source": [
    "from pyspark.sql import SparkSession\n",
    "from pysparkling import *\n",
    "\n",
    "ss = SparkSession.builder.getOrCreate()\n",
    "hc = H2OContext.getOrCreate()"
   ]
  },
  {
   "cell_type": "markdown",
   "metadata": {},
   "source": [
    "## Create H2OFrames"
   ]
  },
  {
   "cell_type": "code",
   "execution_count": 2,
   "metadata": {},
   "outputs": [
    {
     "name": "stdout",
     "output_type": "stream",
     "text": [
      "Parse progress: |█████████████████████████████████████████████████████████| 100%\n"
     ]
    },
    {
     "data": {
      "text/html": [
       "<table>\n",
       "<thead>\n",
       "<tr><th style=\"text-align: right;\">  station_id</th><th style=\"text-align: right;\">  bike_available</th><th style=\"text-align: right;\">  dock_available</th><th>time               </th></tr>\n",
       "</thead>\n",
       "<tbody>\n",
       "<tr><td style=\"text-align: right;\">          10</td><td style=\"text-align: right;\">               7</td><td style=\"text-align: right;\">               8</td><td>2014-12-30 15:37:02</td></tr>\n",
       "<tr><td style=\"text-align: right;\">          10</td><td style=\"text-align: right;\">               7</td><td style=\"text-align: right;\">               8</td><td>2014-12-30 15:35:02</td></tr>\n",
       "<tr><td style=\"text-align: right;\">          10</td><td style=\"text-align: right;\">               7</td><td style=\"text-align: right;\">               8</td><td>2014-12-30 15:34:02</td></tr>\n",
       "<tr><td style=\"text-align: right;\">          10</td><td style=\"text-align: right;\">               7</td><td style=\"text-align: right;\">               8</td><td>2014-12-30 15:33:02</td></tr>\n",
       "<tr><td style=\"text-align: right;\">          10</td><td style=\"text-align: right;\">               7</td><td style=\"text-align: right;\">               8</td><td>2014-12-30 15:32:02</td></tr>\n",
       "<tr><td style=\"text-align: right;\">          10</td><td style=\"text-align: right;\">               7</td><td style=\"text-align: right;\">               8</td><td>2014-12-30 15:31:02</td></tr>\n",
       "<tr><td style=\"text-align: right;\">          10</td><td style=\"text-align: right;\">               6</td><td style=\"text-align: right;\">               9</td><td>2014-12-30 15:30:02</td></tr>\n",
       "<tr><td style=\"text-align: right;\">          10</td><td style=\"text-align: right;\">               6</td><td style=\"text-align: right;\">               9</td><td>2014-12-30 15:29:02</td></tr>\n",
       "<tr><td style=\"text-align: right;\">          10</td><td style=\"text-align: right;\">               6</td><td style=\"text-align: right;\">               9</td><td>2014-12-30 15:28:02</td></tr>\n",
       "<tr><td style=\"text-align: right;\">          10</td><td style=\"text-align: right;\">               6</td><td style=\"text-align: right;\">               9</td><td>2014-12-30 15:27:03</td></tr>\n",
       "</tbody>\n",
       "</table>"
      ]
     },
     "metadata": {},
     "output_type": "display_data"
    },
    {
     "data": {
      "text/plain": []
     },
     "execution_count": 2,
     "metadata": {},
     "output_type": "execute_result"
    }
   ],
   "source": [
    "import h2o\n",
    "status = h2o.import_file(\"../Data/bike_share/status_million.csv\")\n",
    "status.set_names([\"station_id\", \"bike_available\", \"dock_available\" , \"time\"])"
   ]
  },
  {
   "cell_type": "code",
   "execution_count": 3,
   "metadata": {},
   "outputs": [
    {
     "name": "stdout",
     "output_type": "stream",
     "text": [
      "Parse progress: |█████████████████████████████████████████████████████████| 100%\n"
     ]
    },
    {
     "data": {
      "text/html": [
       "<table>\n",
       "<thead>\n",
       "<tr><th style=\"text-align: right;\">  station_id</th><th>name                             </th><th style=\"text-align: right;\">  longitude</th><th style=\"text-align: right;\">  latitude</th><th style=\"text-align: right;\">  </th><th>City    </th><th>time               </th></tr>\n",
       "</thead>\n",
       "<tbody>\n",
       "<tr><td style=\"text-align: right;\">           2</td><td>San Jose Diridon Caltrain Station</td><td style=\"text-align: right;\">    37.3297</td><td style=\"text-align: right;\">  -121.902</td><td style=\"text-align: right;\">27</td><td>San Jose</td><td>2013-08-06 00:00:00</td></tr>\n",
       "<tr><td style=\"text-align: right;\">           3</td><td>San Jose Civic Center            </td><td style=\"text-align: right;\">    37.3307</td><td style=\"text-align: right;\">  -121.889</td><td style=\"text-align: right;\">15</td><td>San Jose</td><td>2013-08-05 00:00:00</td></tr>\n",
       "<tr><td style=\"text-align: right;\">           4</td><td>Santa Clara at Almaden           </td><td style=\"text-align: right;\">    37.334 </td><td style=\"text-align: right;\">  -121.895</td><td style=\"text-align: right;\">11</td><td>San Jose</td><td>2013-08-06 00:00:00</td></tr>\n",
       "<tr><td style=\"text-align: right;\">           5</td><td>Adobe on Almaden                 </td><td style=\"text-align: right;\">    37.3314</td><td style=\"text-align: right;\">  -121.893</td><td style=\"text-align: right;\">19</td><td>San Jose</td><td>2013-08-05 00:00:00</td></tr>\n",
       "<tr><td style=\"text-align: right;\">           6</td><td>San Pedro Square                 </td><td style=\"text-align: right;\">    37.3367</td><td style=\"text-align: right;\">  -121.894</td><td style=\"text-align: right;\">15</td><td>San Jose</td><td>2013-08-07 00:00:00</td></tr>\n",
       "<tr><td style=\"text-align: right;\">           7</td><td>Paseo de San Antonio             </td><td style=\"text-align: right;\">    37.3338</td><td style=\"text-align: right;\">  -121.887</td><td style=\"text-align: right;\">15</td><td>San Jose</td><td>2013-08-07 00:00:00</td></tr>\n",
       "<tr><td style=\"text-align: right;\">           8</td><td>San Salvador at 1st              </td><td style=\"text-align: right;\">    37.3302</td><td style=\"text-align: right;\">  -121.886</td><td style=\"text-align: right;\">15</td><td>San Jose</td><td>2013-08-05 00:00:00</td></tr>\n",
       "<tr><td style=\"text-align: right;\">           9</td><td>Japantown                        </td><td style=\"text-align: right;\">    37.3487</td><td style=\"text-align: right;\">  -121.895</td><td style=\"text-align: right;\">15</td><td>San Jose</td><td>2013-08-05 00:00:00</td></tr>\n",
       "<tr><td style=\"text-align: right;\">          10</td><td>San Jose City Hall               </td><td style=\"text-align: right;\">    37.3374</td><td style=\"text-align: right;\">  -121.887</td><td style=\"text-align: right;\">15</td><td>San Jose</td><td>2013-08-06 00:00:00</td></tr>\n",
       "<tr><td style=\"text-align: right;\">          11</td><td>MLK Library                      </td><td style=\"text-align: right;\">    37.3359</td><td style=\"text-align: right;\">  -121.886</td><td style=\"text-align: right;\">19</td><td>San Jose</td><td>2013-08-06 00:00:00</td></tr>\n",
       "</tbody>\n",
       "</table>"
      ]
     },
     "metadata": {},
     "output_type": "display_data"
    },
    {
     "data": {
      "text/plain": []
     },
     "execution_count": 3,
     "metadata": {},
     "output_type": "execute_result"
    }
   ],
   "source": [
    "station = h2o.import_file(\"../Data/bike_share/stations.csv\")\n",
    "station.set_names([\"station_id\", \"name\", \"longitude\", \"latitude\", \"\", \"City\", \"time\"])"
   ]
  },
  {
   "cell_type": "code",
   "execution_count": 4,
   "metadata": {},
   "outputs": [
    {
     "name": "stdout",
     "output_type": "stream",
     "text": [
      "Rows:1000000\n",
      "Cols:4\n",
      "\n",
      "\n"
     ]
    },
    {
     "data": {
      "text/html": [
       "<table>\n",
       "<thead>\n",
       "<tr><th>       </th><th>station_id        </th><th>bike_available    </th><th>dock_available    </th><th>time               </th></tr>\n",
       "</thead>\n",
       "<tbody>\n",
       "<tr><td>type   </td><td>int               </td><td>int               </td><td>int               </td><td>time               </td></tr>\n",
       "<tr><td>mins   </td><td>10.0              </td><td>0.0               </td><td>0.0               </td><td>1409529603000.0    </td></tr>\n",
       "<tr><td>mean   </td><td>10.476377         </td><td>6.806406          </td><td>10.092785999999995</td><td>1424964314718.8984 </td></tr>\n",
       "<tr><td>maxs   </td><td>11.0              </td><td>19.0              </td><td>19.0              </td><td>1441065542000.0    </td></tr>\n",
       "<tr><td>sigma  </td><td>0.4994418918284722</td><td>3.0217029129039927</td><td>3.074486658073544 </td><td>9146334728.242365  </td></tr>\n",
       "<tr><td>zeros  </td><td>0                 </td><td>9068              </td><td>306               </td><td>0                  </td></tr>\n",
       "<tr><td>missing</td><td>0                 </td><td>0                 </td><td>0                 </td><td>0                  </td></tr>\n",
       "<tr><td>0      </td><td>10.0              </td><td>7.0               </td><td>8.0               </td><td>2014-12-30 15:37:02</td></tr>\n",
       "<tr><td>1      </td><td>10.0              </td><td>7.0               </td><td>8.0               </td><td>2014-12-30 15:35:02</td></tr>\n",
       "<tr><td>2      </td><td>10.0              </td><td>7.0               </td><td>8.0               </td><td>2014-12-30 15:34:02</td></tr>\n",
       "<tr><td>3      </td><td>10.0              </td><td>7.0               </td><td>8.0               </td><td>2014-12-30 15:33:02</td></tr>\n",
       "<tr><td>4      </td><td>10.0              </td><td>7.0               </td><td>8.0               </td><td>2014-12-30 15:32:02</td></tr>\n",
       "<tr><td>5      </td><td>10.0              </td><td>7.0               </td><td>8.0               </td><td>2014-12-30 15:31:02</td></tr>\n",
       "<tr><td>6      </td><td>10.0              </td><td>6.0               </td><td>9.0               </td><td>2014-12-30 15:30:02</td></tr>\n",
       "<tr><td>7      </td><td>10.0              </td><td>6.0               </td><td>9.0               </td><td>2014-12-30 15:29:02</td></tr>\n",
       "<tr><td>8      </td><td>10.0              </td><td>6.0               </td><td>9.0               </td><td>2014-12-30 15:28:02</td></tr>\n",
       "<tr><td>9      </td><td>10.0              </td><td>6.0               </td><td>9.0               </td><td>2014-12-30 15:27:03</td></tr>\n",
       "</tbody>\n",
       "</table>"
      ]
     },
     "metadata": {},
     "output_type": "display_data"
    }
   ],
   "source": [
    "status.describe()"
   ]
  },
  {
   "cell_type": "code",
   "execution_count": 5,
   "metadata": {},
   "outputs": [
    {
     "name": "stdout",
     "output_type": "stream",
     "text": [
      "Rows:70\n",
      "Cols:7\n",
      "\n",
      "\n"
     ]
    },
    {
     "data": {
      "text/html": [
       "<table>\n",
       "<thead>\n",
       "<tr><th>                 </th><th>station_id        </th><th>name                             </th><th>longitude          </th><th>latitude           </th><th>City    </th><th>time               </th></tr>\n",
       "</thead>\n",
       "<tbody>\n",
       "<tr><td>int              </td><td>int               </td><td>string                           </td><td>real               </td><td>real               </td><td>enum    </td><td>time               </td></tr>\n",
       "<tr><td>11.0             </td><td>2.0               </td><td>NaN                              </td><td>37.329732          </td><td>-122.418954        </td><td>        </td><td>1375660800000.0    </td></tr>\n",
       "<tr><td>17.65714285714286</td><td>43.0              </td><td>NaN                              </td><td>37.59024338428573  </td><td>-122.21841616428574</td><td>        </td><td>1377863999999.9995 </td></tr>\n",
       "<tr><td>27.0             </td><td>84.0              </td><td>NaN                              </td><td>37.80477           </td><td>-121.877349        </td><td>        </td><td>1397001600000.0    </td></tr>\n",
       "<tr><td>4.010441857493954</td><td>24.166091947189145</td><td>NaN                              </td><td>0.20347253639672405</td><td>0.209446049796445  </td><td>        </td><td>4168685648.352917  </td></tr>\n",
       "<tr><td>0                </td><td>0                 </td><td>0                                </td><td>0                  </td><td>0                  </td><td>        </td><td>0                  </td></tr>\n",
       "<tr><td>0                </td><td>0                 </td><td>0                                </td><td>0                  </td><td>0                  </td><td>0       </td><td>0                  </td></tr>\n",
       "<tr><td>27.0             </td><td>2.0               </td><td>San Jose Diridon Caltrain Station</td><td>37.329732          </td><td>-121.901782        </td><td>San Jose</td><td>2013-08-06 00:00:00</td></tr>\n",
       "<tr><td>15.0             </td><td>3.0               </td><td>San Jose Civic Center            </td><td>37.330698          </td><td>-121.888979        </td><td>San Jose</td><td>2013-08-05 00:00:00</td></tr>\n",
       "<tr><td>11.0             </td><td>4.0               </td><td>Santa Clara at Almaden           </td><td>37.333988          </td><td>-121.894902        </td><td>San Jose</td><td>2013-08-06 00:00:00</td></tr>\n",
       "<tr><td>19.0             </td><td>5.0               </td><td>Adobe on Almaden                 </td><td>37.331415          </td><td>-121.8932          </td><td>San Jose</td><td>2013-08-05 00:00:00</td></tr>\n",
       "<tr><td>15.0             </td><td>6.0               </td><td>San Pedro Square                 </td><td>37.336721          </td><td>-121.894074        </td><td>San Jose</td><td>2013-08-07 00:00:00</td></tr>\n",
       "<tr><td>15.0             </td><td>7.0               </td><td>Paseo de San Antonio             </td><td>37.333798          </td><td>-121.886943        </td><td>San Jose</td><td>2013-08-07 00:00:00</td></tr>\n",
       "<tr><td>15.0             </td><td>8.0               </td><td>San Salvador at 1st              </td><td>37.330165          </td><td>-121.885831        </td><td>San Jose</td><td>2013-08-05 00:00:00</td></tr>\n",
       "<tr><td>15.0             </td><td>9.0               </td><td>Japantown                        </td><td>37.348742          </td><td>-121.894715        </td><td>San Jose</td><td>2013-08-05 00:00:00</td></tr>\n",
       "<tr><td>15.0             </td><td>10.0              </td><td>San Jose City Hall               </td><td>37.337391          </td><td>-121.886995        </td><td>San Jose</td><td>2013-08-06 00:00:00</td></tr>\n",
       "<tr><td>19.0             </td><td>11.0              </td><td>MLK Library                      </td><td>37.335885          </td><td>-121.88566         </td><td>San Jose</td><td>2013-08-06 00:00:00</td></tr>\n",
       "</tbody>\n",
       "</table>"
      ]
     },
     "metadata": {},
     "output_type": "display_data"
    }
   ],
   "source": [
    "station.describe()"
   ]
  },
  {
   "cell_type": "markdown",
   "metadata": {},
   "source": [
    "## Convert data to Spark DataFrame and Join"
   ]
  },
  {
   "cell_type": "code",
   "execution_count": 6,
   "metadata": {},
   "outputs": [],
   "source": [
    "station_df = hc.asSparkFrame(station)\n",
    "status_df = hc.asSparkFrame(status)"
   ]
  },
  {
   "cell_type": "code",
   "execution_count": 7,
   "metadata": {},
   "outputs": [],
   "source": [
    "joined_station_stauts_df = station_df.join(status_df, \"station_id\")"
   ]
  },
  {
   "cell_type": "code",
   "execution_count": 8,
   "metadata": {},
   "outputs": [],
   "source": [
    "joined_station_stauts = hc.asH2OFrame(joined_station_stauts_df)"
   ]
  },
  {
   "cell_type": "code",
   "execution_count": 9,
   "metadata": {},
   "outputs": [
    {
     "name": "stdout",
     "output_type": "stream",
     "text": [
      "Rows:1000000\n",
      "Cols:10\n",
      "\n",
      "\n"
     ]
    },
    {
     "data": {
      "text/html": [
       "<table>\n",
       "<thead>\n",
       "<tr><th>                  </th><th>station_id        </th><th>name              </th><th>longitude            </th><th>latitude             </th><th>City    </th><th>time               </th><th>bike_available    </th><th>dock_available    </th></tr>\n",
       "</thead>\n",
       "<tbody>\n",
       "<tr><td>int               </td><td>int               </td><td>enum              </td><td>real                 </td><td>real                 </td><td>enum    </td><td>time               </td><td>int               </td><td>int               </td></tr>\n",
       "<tr><td>15.0              </td><td>10.0              </td><td>                  </td><td>37.335885            </td><td>-121.886995          </td><td>        </td><td>1409529603000.0    </td><td>0.0               </td><td>0.0               </td></tr>\n",
       "<tr><td>16.905508         </td><td>10.476377         </td><td>                  </td><td>37.33667357623799    </td><td>-121.886359036705    </td><td>        </td><td>1424964314718.874  </td><td>6.806405999999677 </td><td>10.0927860000001  </td></tr>\n",
       "<tr><td>19.0              </td><td>11.0              </td><td>                  </td><td>37.337391            </td><td>-121.88566           </td><td>        </td><td>1441065542000.0    </td><td>19.0              </td><td>19.0              </td></tr>\n",
       "<tr><td>1.9977675673138888</td><td>0.4994418918284722</td><td>                  </td><td>0.0007521594890932392</td><td>0.0006667549255897226</td><td>        </td><td>9146334728.24486   </td><td>3.0217029129038635</td><td>3.0744866580735692</td></tr>\n",
       "<tr><td>0                 </td><td>0                 </td><td>                  </td><td>0                    </td><td>0                    </td><td>        </td><td>0                  </td><td>9068              </td><td>306               </td></tr>\n",
       "<tr><td>0                 </td><td>0                 </td><td>0                 </td><td>0                    </td><td>0                    </td><td>0       </td><td>0                  </td><td>0                 </td><td>0                 </td></tr>\n",
       "<tr><td>15.0              </td><td>10.0              </td><td>San Jose City Hall</td><td>37.337391            </td><td>-121.886995          </td><td>San Jose</td><td>2014-12-30 15:37:02</td><td>7.0               </td><td>8.0               </td></tr>\n",
       "<tr><td>15.0              </td><td>10.0              </td><td>San Jose City Hall</td><td>37.337391            </td><td>-121.886995          </td><td>San Jose</td><td>2014-12-30 15:35:02</td><td>7.0               </td><td>8.0               </td></tr>\n",
       "<tr><td>15.0              </td><td>10.0              </td><td>San Jose City Hall</td><td>37.337391            </td><td>-121.886995          </td><td>San Jose</td><td>2014-12-30 15:34:02</td><td>7.0               </td><td>8.0               </td></tr>\n",
       "<tr><td>15.0              </td><td>10.0              </td><td>San Jose City Hall</td><td>37.337391            </td><td>-121.886995          </td><td>San Jose</td><td>2014-12-30 15:33:02</td><td>7.0               </td><td>8.0               </td></tr>\n",
       "<tr><td>15.0              </td><td>10.0              </td><td>San Jose City Hall</td><td>37.337391            </td><td>-121.886995          </td><td>San Jose</td><td>2014-12-30 15:32:02</td><td>7.0               </td><td>8.0               </td></tr>\n",
       "<tr><td>15.0              </td><td>10.0              </td><td>San Jose City Hall</td><td>37.337391            </td><td>-121.886995          </td><td>San Jose</td><td>2014-12-30 15:31:02</td><td>7.0               </td><td>8.0               </td></tr>\n",
       "<tr><td>15.0              </td><td>10.0              </td><td>San Jose City Hall</td><td>37.337391            </td><td>-121.886995          </td><td>San Jose</td><td>2014-12-30 15:30:02</td><td>6.0               </td><td>9.0               </td></tr>\n",
       "<tr><td>15.0              </td><td>10.0              </td><td>San Jose City Hall</td><td>37.337391            </td><td>-121.886995          </td><td>San Jose</td><td>2014-12-30 15:29:02</td><td>6.0               </td><td>9.0               </td></tr>\n",
       "<tr><td>15.0              </td><td>10.0              </td><td>San Jose City Hall</td><td>37.337391            </td><td>-121.886995          </td><td>San Jose</td><td>2014-12-30 15:28:02</td><td>6.0               </td><td>9.0               </td></tr>\n",
       "<tr><td>15.0              </td><td>10.0              </td><td>San Jose City Hall</td><td>37.337391            </td><td>-121.886995          </td><td>San Jose</td><td>2014-12-30 15:27:03</td><td>6.0               </td><td>9.0               </td></tr>\n",
       "</tbody>\n",
       "</table>"
      ]
     },
     "metadata": {},
     "output_type": "display_data"
    }
   ],
   "source": [
    "joined_station_stauts.describe()"
   ]
  },
  {
   "cell_type": "code",
   "execution_count": 10,
   "metadata": {},
   "outputs": [],
   "source": [
    "ss.stop()"
   ]
  }
 ],
 "metadata": {
  "kernelspec": {
   "display_name": "Python 3",
   "language": "python",
   "name": "python3"
  },
  "language_info": {
   "codemirror_mode": {
    "name": "ipython",
    "version": 3
   },
   "file_extension": ".py",
   "mimetype": "text/x-python",
   "name": "python",
   "nbconvert_exporter": "python",
   "pygments_lexer": "ipython3",
   "version": "3.8.2"
  },
  "varInspector": {
   "cols": {
    "lenName": 16,
    "lenType": 16,
    "lenVar": 40
   },
   "kernels_config": {
    "python": {
     "delete_cmd_postfix": "",
     "delete_cmd_prefix": "del ",
     "library": "var_list.py",
     "varRefreshCmd": "print(var_dic_list())"
    },
    "r": {
     "delete_cmd_postfix": ") ",
     "delete_cmd_prefix": "rm(",
     "library": "var_list.r",
     "varRefreshCmd": "cat(var_dic_list()) "
    }
   },
   "types_to_exclude": [
    "module",
    "function",
    "builtin_function_or_method",
    "instance",
    "_Feature"
   ],
   "window_display": false
  }
 },
 "nbformat": 4,
 "nbformat_minor": 2
}
