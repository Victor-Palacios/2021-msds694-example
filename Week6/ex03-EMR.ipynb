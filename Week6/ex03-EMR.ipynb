{
 "cells": [
  {
   "cell_type": "code",
   "execution_count": 1,
   "metadata": {},
   "outputs": [
    {
     "data": {
      "text/html": [
       "Current session configs: <tt>{'conf': {'spark.pyspark.python': 'python3', 'spark.pyspark.virtualenv.enabled': 'true', 'spark.pyspark.virtualenv.type': 'native', 'spark.pyspark.virtualenv.bin.path': '/usr/bin/virtualenv', 'spark.executor.heartbeatInterval': '10800s', 'spark.network.timeout': '24h', 'spark.driver.memory': '2G', 'spark.executor.memory': '2G', 'spark.executor.cores': '8', 'livy.server.session.timeout': '24h', 'spark.dynamicAllocation.enabled': 'false', 'spark.ext.h2o.fail.on.unsupported.spark.param': 'false', 'spark.app.name': 'msds694'}, 'kind': 'pyspark'}</tt><br>"
      ],
      "text/plain": [
       "<IPython.core.display.HTML object>"
      ]
     },
     "metadata": {},
     "output_type": "display_data"
    },
    {
     "data": {
      "text/html": [
       "No active sessions."
      ],
      "text/plain": [
       "<IPython.core.display.HTML object>"
      ]
     },
     "metadata": {},
     "output_type": "display_data"
    }
   ],
   "source": [
    "%%configure -f \n",
    "{\n",
    "\"conf\":{\n",
    "        \"spark.pyspark.python\": \"python3\",\n",
    "        \"spark.pyspark.virtualenv.enabled\": \"true\",\n",
    "        \"spark.pyspark.virtualenv.type\":\"native\",\n",
    "        \"spark.pyspark.virtualenv.bin.path\":\"/usr/bin/virtualenv\",\n",
    "    \n",
    "        \"spark.executor.heartbeatInterval\":\"10800s\",\n",
    "        \"spark.network.timeout\":\"24h\",\n",
    "    \n",
    "        \"spark.driver.memory\": \"2G\",\n",
    "        \"spark.executor.memory\": \"2G\",\n",
    "        \"spark.executor.cores\":\"8\",\n",
    "    \n",
    "        \"livy.server.session.timeout\":\"24h\",\n",
    "    \n",
    "        \"spark.dynamicAllocation.enabled\":\"false\",\n",
    "        \"spark.ext.h2o.fail.on.unsupported.spark.param\":\"false\",    \n",
    "        \n",
    "        \"spark.app.name\":\"msds694\"\n",
    "      }\n",
    "}"
   ]
  },
  {
   "cell_type": "code",
   "execution_count": 2,
   "metadata": {},
   "outputs": [
    {
     "data": {
      "application/vnd.jupyter.widget-view+json": {
       "model_id": "67577c5bf19e476289610fd462cbb0eb",
       "version_major": 2,
       "version_minor": 0
      },
      "text/plain": [
       "VBox()"
      ]
     },
     "metadata": {},
     "output_type": "display_data"
    },
    {
     "name": "stdout",
     "output_type": "stream",
     "text": [
      "Starting Spark application\n"
     ]
    },
    {
     "data": {
      "text/html": [
       "<table>\n",
       "<tr><th>ID</th><th>YARN Application ID</th><th>Kind</th><th>State</th><th>Spark UI</th><th>Driver log</th><th>Current session?</th></tr><tr><td>8</td><td>application_1614456343818_0009</td><td>pyspark</td><td>idle</td><td><a target=\"_blank\" href=\"http://ip-172-31-63-106.ec2.internal:20888/proxy/application_1614456343818_0009/\">Link</a></td><td><a target=\"_blank\" href=\"http://ip-172-31-63-110.ec2.internal:8042/node/containerlogs/container_1614456343818_0009_01_000001/livy\">Link</a></td><td>✔</td></tr></table>"
      ],
      "text/plain": [
       "<IPython.core.display.HTML object>"
      ]
     },
     "metadata": {},
     "output_type": "display_data"
    },
    {
     "data": {
      "application/vnd.jupyter.widget-view+json": {
       "model_id": "",
       "version_major": 2,
       "version_minor": 0
      },
      "text/plain": [
       "FloatProgress(value=0.0, bar_style='info', description='Progress:', layout=Layout(height='25px', width='50%'),…"
      ]
     },
     "metadata": {},
     "output_type": "display_data"
    },
    {
     "name": "stdout",
     "output_type": "stream",
     "text": [
      "SparkSession available as 'spark'.\n"
     ]
    },
    {
     "data": {
      "application/vnd.jupyter.widget-view+json": {
       "model_id": "",
       "version_major": 2,
       "version_minor": 0
      },
      "text/plain": [
       "FloatProgress(value=0.0, bar_style='info', description='Progress:', layout=Layout(height='25px', width='50%'),…"
      ]
     },
     "metadata": {},
     "output_type": "display_data"
    },
    {
     "name": "stdout",
     "output_type": "stream",
     "text": [
      "<SparkContext master=yarn appName=msds694>"
     ]
    }
   ],
   "source": [
    "sc"
   ]
  },
  {
   "cell_type": "code",
   "execution_count": 3,
   "metadata": {},
   "outputs": [
    {
     "data": {
      "application/vnd.jupyter.widget-view+json": {
       "model_id": "3d37efd7ff154d0db7e8db2ba83e54db",
       "version_major": 2,
       "version_minor": 0
      },
      "text/plain": [
       "VBox()"
      ]
     },
     "metadata": {},
     "output_type": "display_data"
    },
    {
     "data": {
      "application/vnd.jupyter.widget-view+json": {
       "model_id": "",
       "version_major": 2,
       "version_minor": 0
      },
      "text/plain": [
       "FloatProgress(value=0.0, bar_style='info', description='Progress:', layout=Layout(height='25px', width='50%'),…"
      ]
     },
     "metadata": {},
     "output_type": "display_data"
    },
    {
     "name": "stdout",
     "output_type": "stream",
     "text": [
      "Collecting h2o-pysparkling-2.4\n",
      "  Using cached h2o_pysparkling_2.4-3.32.0.4.post1-py2.py3-none-any.whl\n",
      "Collecting tabulate\n",
      "  Using cached tabulate-0.8.9-py3-none-any.whl (25 kB)\n",
      "Collecting requests\n",
      "  Using cached requests-2.25.1-py2.py3-none-any.whl (61 kB)\n",
      "Collecting future\n",
      "  Using cached future-0.18.2-py3-none-any.whl\n",
      "Collecting colorama>=0.3.8\n",
      "  Using cached colorama-0.4.4-py2.py3-none-any.whl (16 kB)\n",
      "Collecting urllib3<1.27,>=1.21.1\n",
      "  Using cached urllib3-1.26.3-py2.py3-none-any.whl (137 kB)\n",
      "Collecting chardet<5,>=3.0.2\n",
      "  Using cached chardet-4.0.0-py2.py3-none-any.whl (178 kB)\n",
      "Collecting certifi>=2017.4.17\n",
      "  Using cached certifi-2020.12.5-py2.py3-none-any.whl (147 kB)\n",
      "Collecting idna<3,>=2.5\n",
      "  Using cached idna-2.10-py2.py3-none-any.whl (58 kB)\n",
      "Installing collected packages: urllib3, idna, chardet, certifi, tabulate, requests, future, colorama, h2o-pysparkling-2.4\n",
      "Successfully installed certifi-2020.12.5 chardet-4.0.0 colorama-0.4.4 future-0.18.2 h2o-pysparkling-2.4-3.32.0.4.post1 idna-2.10 requests-2.25.1 tabulate-0.8.9 urllib3-1.26.3\n",
      "\n",
      "Collecting h2o\n",
      "  Using cached h2o-3.32.0.4-py2.py3-none-any.whl\n",
      "Requirement already satisfied: tabulate in /mnt/tmp/1614462647951-0/lib/python3.6/site-packages (from h2o) (0.8.9)\n",
      "Requirement already satisfied: requests in /mnt/tmp/1614462647951-0/lib/python3.6/site-packages (from h2o) (2.25.1)\n",
      "Requirement already satisfied: future in /mnt/tmp/1614462647951-0/lib/python3.6/site-packages (from h2o) (0.18.2)\n",
      "Requirement already satisfied: colorama>=0.3.8 in /mnt/tmp/1614462647951-0/lib/python3.6/site-packages (from h2o) (0.4.4)\n",
      "Requirement already satisfied: urllib3<1.27,>=1.21.1 in /mnt/tmp/1614462647951-0/lib/python3.6/site-packages (from requests->h2o) (1.26.3)\n",
      "Requirement already satisfied: chardet<5,>=3.0.2 in /mnt/tmp/1614462647951-0/lib/python3.6/site-packages (from requests->h2o) (4.0.0)\n",
      "Requirement already satisfied: certifi>=2017.4.17 in /mnt/tmp/1614462647951-0/lib/python3.6/site-packages (from requests->h2o) (2020.12.5)\n",
      "Requirement already satisfied: idna<3,>=2.5 in /mnt/tmp/1614462647951-0/lib/python3.6/site-packages (from requests->h2o) (2.10)\n",
      "Installing collected packages: h2o\n",
      "Successfully installed h2o-3.32.0.4"
     ]
    }
   ],
   "source": [
    "sc.install_pypi_package(\"h2o-pysparkling-2.4\")\n",
    "sc.install_pypi_package(\"h2o\")"
   ]
  },
  {
   "cell_type": "code",
   "execution_count": 4,
   "metadata": {},
   "outputs": [
    {
     "data": {
      "application/vnd.jupyter.widget-view+json": {
       "model_id": "bc46a20ab2034ed19b5e0a8ff305a8d5",
       "version_major": 2,
       "version_minor": 0
      },
      "text/plain": [
       "VBox()"
      ]
     },
     "metadata": {},
     "output_type": "display_data"
    },
    {
     "data": {
      "application/vnd.jupyter.widget-view+json": {
       "model_id": "",
       "version_major": 2,
       "version_minor": 0
      },
      "text/plain": [
       "FloatProgress(value=0.0, bar_style='info', description='Progress:', layout=Layout(height='25px', width='50%'),…"
      ]
     },
     "metadata": {},
     "output_type": "display_data"
    },
    {
     "name": "stdout",
     "output_type": "stream",
     "text": [
      "Package                    Version\n",
      "-------------------------- --------------\n",
      "beautifulsoup4             4.8.1\n",
      "boto                       2.49.0\n",
      "certifi                    2020.12.5\n",
      "chardet                    4.0.0\n",
      "colorama                   0.4.4\n",
      "future                     0.18.2\n",
      "h2o                        3.32.0.4\n",
      "h2o-pysparkling-2.4        3.32.0.4.post1\n",
      "idna                       2.10\n",
      "jmespath                   0.9.4\n",
      "lxml                       4.4.2\n",
      "mysqlclient                1.4.6\n",
      "nltk                       3.4.5\n",
      "nose                       1.3.4\n",
      "numpy                      1.14.5\n",
      "pip                        21.0.1\n",
      "py-dateutil                2.2\n",
      "python36-sagemaker-pyspark 1.2.6\n",
      "pytz                       2019.3\n",
      "PyYAML                     3.11\n",
      "requests                   2.25.1\n",
      "setuptools                 53.1.0\n",
      "six                        1.13.0\n",
      "soupsieve                  1.9.5\n",
      "tabulate                   0.8.9\n",
      "urllib3                    1.26.3\n",
      "wheel                      0.36.2\n",
      "windmill                   1.6"
     ]
    }
   ],
   "source": [
    "sc.list_packages()"
   ]
  },
  {
   "cell_type": "code",
   "execution_count": 5,
   "metadata": {},
   "outputs": [
    {
     "data": {
      "application/vnd.jupyter.widget-view+json": {
       "model_id": "488ef9531cd14a7c9ace636f63d93371",
       "version_major": 2,
       "version_minor": 0
      },
      "text/plain": [
       "VBox()"
      ]
     },
     "metadata": {},
     "output_type": "display_data"
    },
    {
     "data": {
      "application/vnd.jupyter.widget-view+json": {
       "model_id": "",
       "version_major": 2,
       "version_minor": 0
      },
      "text/plain": [
       "FloatProgress(value=0.0, bar_style='info', description='Progress:', layout=Layout(height='25px', width='50%'),…"
      ]
     },
     "metadata": {},
     "output_type": "display_data"
    }
   ],
   "source": [
    "import h2o\n",
    "from h2o.automl import H2OAutoML\n",
    "\n",
    "from pyspark.sql import SparkSession\n",
    "from pysparkling import *"
   ]
  },
  {
   "cell_type": "code",
   "execution_count": 6,
   "metadata": {},
   "outputs": [
    {
     "data": {
      "application/vnd.jupyter.widget-view+json": {
       "model_id": "ff23e469db714c54b0f5a65ff441168b",
       "version_major": 2,
       "version_minor": 0
      },
      "text/plain": [
       "VBox()"
      ]
     },
     "metadata": {},
     "output_type": "display_data"
    },
    {
     "data": {
      "application/vnd.jupyter.widget-view+json": {
       "model_id": "",
       "version_major": 2,
       "version_minor": 0
      },
      "text/plain": [
       "FloatProgress(value=0.0, bar_style='info', description='Progress:', layout=Layout(height='25px', width='50%'),…"
      ]
     },
     "metadata": {},
     "output_type": "display_data"
    }
   ],
   "source": [
    "ss = SparkSession.builder.getOrCreate()"
   ]
  },
  {
   "cell_type": "code",
   "execution_count": 7,
   "metadata": {},
   "outputs": [
    {
     "data": {
      "application/vnd.jupyter.widget-view+json": {
       "model_id": "10be373ff4934d308495dd631e11687e",
       "version_major": 2,
       "version_minor": 0
      },
      "text/plain": [
       "VBox()"
      ]
     },
     "metadata": {},
     "output_type": "display_data"
    },
    {
     "data": {
      "application/vnd.jupyter.widget-view+json": {
       "model_id": "",
       "version_major": 2,
       "version_minor": 0
      },
      "text/plain": [
       "FloatProgress(value=0.0, bar_style='info', description='Progress:', layout=Layout(height='25px', width='50%'),…"
      ]
     },
     "metadata": {},
     "output_type": "display_data"
    },
    {
     "name": "stdout",
     "output_type": "stream",
     "text": [
      "Connecting to H2O server at http://ip-172-31-63-106.ec2.internal:54321 ... successful.\n",
      "--------------------------  -------------------------------------------------------------------------------------------------------\n",
      "H2O_cluster_uptime:         23 secs\n",
      "H2O_cluster_timezone:       UTC\n",
      "H2O_data_parsing_timezone:  UTC\n",
      "H2O_cluster_version:        3.32.0.4\n",
      "H2O_cluster_version_age:    26 days\n",
      "H2O_cluster_name:           sparkling-water-livy_application_1614456343818_0009\n",
      "H2O_cluster_total_nodes:    2\n",
      "H2O_cluster_free_memory:    3.176 Gb\n",
      "H2O_cluster_total_cores:    8\n",
      "H2O_cluster_allowed_cores:  16\n",
      "H2O_cluster_status:         locked, healthy\n",
      "H2O_connection_url:         http://ip-172-31-63-106.ec2.internal:54321\n",
      "H2O_connection_proxy:       null\n",
      "H2O_internal_security:      False\n",
      "H2O_API_Extensions:         XGBoost, Algos, Amazon S3, Sparkling Water REST API Extensions, AutoML, Core V3, TargetEncoder, Core V4\n",
      "Python_version:             3.6.8 final\n",
      "--------------------------  -------------------------------------------------------------------------------------------------------\n",
      "\n",
      "Sparkling Water Context:\n",
      " * Sparkling Water Version: 3.32.0.4-1-2.4\n",
      " * H2O name: livy\n",
      " * cluster size: 2\n",
      " * list of used nodes:\n",
      "  (executorId, host, port)\n",
      "  ------------------------\n",
      "  (0,172.31.63.110,54321)\n",
      "  (1,172.31.63.110,54323)\n",
      "  ------------------------\n",
      "\n",
      "  Open H2O Flow in browser: http://ip-172-31-63-106.ec2.internal:54321 (CMD + click in Mac OSX)\n",
      "\n",
      "    \n",
      " * Yarn App ID of Spark application: application_1614456343818_0009"
     ]
    }
   ],
   "source": [
    "hc = H2OContext.getOrCreate()"
   ]
  },
  {
   "cell_type": "code",
   "execution_count": 8,
   "metadata": {},
   "outputs": [
    {
     "data": {
      "application/vnd.jupyter.widget-view+json": {
       "model_id": "38465931e9b845aea291539776cddb23",
       "version_major": 2,
       "version_minor": 0
      },
      "text/plain": [
       "VBox()"
      ]
     },
     "metadata": {},
     "output_type": "display_data"
    },
    {
     "data": {
      "application/vnd.jupyter.widget-view+json": {
       "model_id": "",
       "version_major": 2,
       "version_minor": 0
      },
      "text/plain": [
       "FloatProgress(value=0.0, bar_style='info', description='Progress:', layout=Layout(height='25px', width='50%'),…"
      ]
     },
     "metadata": {},
     "output_type": "display_data"
    },
    {
     "name": "stdout",
     "output_type": "stream",
     "text": [
      "Parse progress: [#########################################################] 100%"
     ]
    }
   ],
   "source": [
    "data_path = \"s3://usfca-msan694/penbased.dat\"\n",
    "penbased_df = h2o.import_file(data_path)"
   ]
  },
  {
   "cell_type": "code",
   "execution_count": 9,
   "metadata": {},
   "outputs": [
    {
     "data": {
      "application/vnd.jupyter.widget-view+json": {
       "model_id": "84204b940d84439991f7a8b0db055caf",
       "version_major": 2,
       "version_minor": 0
      },
      "text/plain": [
       "VBox()"
      ]
     },
     "metadata": {},
     "output_type": "display_data"
    },
    {
     "data": {
      "application/vnd.jupyter.widget-view+json": {
       "model_id": "",
       "version_major": 2,
       "version_minor": 0
      },
      "text/plain": [
       "FloatProgress(value=0.0, bar_style='info', description='Progress:', layout=Layout(height='25px', width='50%'),…"
      ]
     },
     "metadata": {},
     "output_type": "display_data"
    },
    {
     "name": "stdout",
     "output_type": "stream",
     "text": [
      "  pix1    pix2    pix3    pix4    pix5    pix6    pix7    pix8    pix9    pix10    pix11    pix12    pix13    pix14    pix15    pix16    label\n",
      "------  ------  ------  ------  ------  ------  ------  ------  ------  -------  -------  -------  -------  -------  -------  -------  -------\n",
      "    47     100      27      81      57      37      26       0       0       23       56       53      100       90       40       98        8\n",
      "     0      89      27     100      42      75      29      45      15       15       37        0       69        2      100        6        2\n",
      "     0      57      31      68      72      90     100     100      76       75       50       51       28       25       16        0        1\n",
      "     0     100       7      92       5      68      19      45      86       34      100       45       74       23       67        0        4\n",
      "     0      67      49      83     100     100      81      80      60       60       40       40       33       20       47        0        1\n",
      "   100     100      88      99      49      74      17      47       0       16       37        0       73       16       20       20        6\n",
      "     0     100       3      72      26      35      85      35     100       71       73       97       65       49       66        0        4\n",
      "     0      39       2      62      11       5      63       0     100       43       89       99       36      100        0       57        0\n",
      "    13      89      12      50      72      38      56       0       4       17        0       61       32       94      100      100        5\n",
      "    74      87      31     100       0      69      62      64     100       79      100       38       84        0       18        1        9\n",
      "\n",
      "[9912 rows x 17 columns]"
     ]
    }
   ],
   "source": [
    "penbased_df.set_names([\"pix1\",\"pix2\",\"pix3\",\"pix4\",\"pix5\",\"pix6\",\n",
    "                       \"pix7\",\"pix8\",\"pix9\",\"pix10\",\"pix11\",\"pix12\",\n",
    "                       \"pix13\",\"pix14\",\"pix15\",\"pix16\",\"label\"])"
   ]
  },
  {
   "cell_type": "code",
   "execution_count": 10,
   "metadata": {},
   "outputs": [
    {
     "data": {
      "application/vnd.jupyter.widget-view+json": {
       "model_id": "edb6474025bd4adbbd0341eb38eff1c6",
       "version_major": 2,
       "version_minor": 0
      },
      "text/plain": [
       "VBox()"
      ]
     },
     "metadata": {},
     "output_type": "display_data"
    },
    {
     "data": {
      "application/vnd.jupyter.widget-view+json": {
       "model_id": "",
       "version_major": 2,
       "version_minor": 0
      },
      "text/plain": [
       "FloatProgress(value=0.0, bar_style='info', description='Progress:', layout=Layout(height='25px', width='50%'),…"
      ]
     },
     "metadata": {},
     "output_type": "display_data"
    }
   ],
   "source": [
    "penbased_df[\"label\"] = penbased_df[\"label\"].asfactor()"
   ]
  },
  {
   "cell_type": "code",
   "execution_count": 11,
   "metadata": {},
   "outputs": [
    {
     "data": {
      "application/vnd.jupyter.widget-view+json": {
       "model_id": "c29fd133699e41018f322377debe121d",
       "version_major": 2,
       "version_minor": 0
      },
      "text/plain": [
       "VBox()"
      ]
     },
     "metadata": {},
     "output_type": "display_data"
    },
    {
     "data": {
      "application/vnd.jupyter.widget-view+json": {
       "model_id": "",
       "version_major": 2,
       "version_minor": 0
      },
      "text/plain": [
       "FloatProgress(value=0.0, bar_style='info', description='Progress:', layout=Layout(height='25px', width='50%'),…"
      ]
     },
     "metadata": {},
     "output_type": "display_data"
    },
    {
     "name": "stdout",
     "output_type": "stream",
     "text": [
      "         pix1               pix2                pix3                pix4               pix5               pix6                pix7                pix8               pix9               pix10               pix11              pix12               pix13               pix14               pix15              pix16               label\n",
      "-------  -----------------  ------------------  ------------------  -----------------  -----------------  ------------------  ------------------  -----------------  -----------------  ------------------  -----------------  ------------------  ------------------  ------------------  -----------------  ------------------  -------\n",
      "type     int                int                 int                 int                int                int                 int                 int                int                int                 int                int                 int                 int                 int                int                 enum\n",
      "mins     0.0                0.0                 0.0                 0.0                0.0                0.0                 0.0                 0.0                0.0                0.0                 0.0                0.0                 0.0                 0.0                 0.0                0.0\n",
      "mean     39.0363196125908   85.19118240516545   40.659604519774014  83.83898305084745  49.58111380145279  65.55528652138821   51.074858757062145  44.49606537530266  56.78753026634383  33.710653753026634  60.59130347054076  34.84846650524618   55.079398708636     34.963075060532695  47.15002017756254  28.858757062146893\n",
      "maxs     100.0              100.0               100.0               100.0              100.0              100.0               100.0               100.0              100.0              100.0               100.0              100.0               100.0               100.0               100.0              100.0\n",
      "sigma    34.35220151400474  16.181378816896995  26.371115421025678  19.11264532384947  34.08795650342981  26.953660580428103  30.565323036637427  29.95348333691249  34.12882308702293  27.326041741458752  37.24990984565127  27.102540735632047  22.358104263901314  33.113174740358964  41.74731673104696  35.7810360470465\n",
      "zeros    2119               20                  858                 13                 1410               357                 891                 1403               926                2030                1173               1110                169                 1576                2647               3646\n",
      "missing  0                  0                   0                   0                  0                  0                   0                   0                  0                  0                   0                  0                   0                   0                   0                  0                   0\n",
      "0        47.0               100.0               27.0                81.0               57.0               37.0                26.0                0.0                0.0                23.0                56.0               53.0                100.0               90.0                40.0               98.0                8\n",
      "1        0.0                89.0                27.0                100.0              42.0               75.0                29.0                45.0               15.0               15.0                37.0               0.0                 69.0                2.0                 100.0              6.0                 2\n",
      "2        0.0                57.0                31.0                68.0               72.0               90.0                100.0               100.0              76.0               75.0                50.0               51.0                28.0                25.0                16.0               0.0                 1\n",
      "3        0.0                100.0               7.0                 92.0               5.0                68.0                19.0                45.0               86.0               34.0                100.0              45.0                74.0                23.0                67.0               0.0                 4\n",
      "4        0.0                67.0                49.0                83.0               100.0              100.0               81.0                80.0               60.0               60.0                40.0               40.0                33.0                20.0                47.0               0.0                 1\n",
      "5        100.0              100.0               88.0                99.0               49.0               74.0                17.0                47.0               0.0                16.0                37.0               0.0                 73.0                16.0                20.0               20.0                6\n",
      "6        0.0                100.0               3.0                 72.0               26.0               35.0                85.0                35.0               100.0              71.0                73.0               97.0                65.0                49.0                66.0               0.0                 4\n",
      "7        0.0                39.0                2.0                 62.0               11.0               5.0                 63.0                0.0                100.0              43.0                89.0               99.0                36.0                100.0               0.0                57.0                0\n",
      "8        13.0               89.0                12.0                50.0               72.0               38.0                56.0                0.0                4.0                17.0                0.0                61.0                32.0                94.0                100.0              100.0               5\n",
      "9        74.0               87.0                31.0                100.0              0.0                69.0                62.0                64.0               100.0              79.0                100.0              38.0                84.0                0.0                 18.0               1.0                 9"
     ]
    }
   ],
   "source": [
    "penbased_df.summary()"
   ]
  },
  {
   "cell_type": "code",
   "execution_count": 12,
   "metadata": {},
   "outputs": [
    {
     "data": {
      "application/vnd.jupyter.widget-view+json": {
       "model_id": "5bbd4197b83e4403b5c391982b4d73be",
       "version_major": 2,
       "version_minor": 0
      },
      "text/plain": [
       "VBox()"
      ]
     },
     "metadata": {},
     "output_type": "display_data"
    },
    {
     "data": {
      "application/vnd.jupyter.widget-view+json": {
       "model_id": "",
       "version_major": 2,
       "version_minor": 0
      },
      "text/plain": [
       "FloatProgress(value=0.0, bar_style='info', description='Progress:', layout=Layout(height='25px', width='50%'),…"
      ]
     },
     "metadata": {},
     "output_type": "display_data"
    }
   ],
   "source": [
    "predictors = penbased_df.names[:]\n",
    "response = \"label\"\n",
    "predictors.remove(response)"
   ]
  },
  {
   "cell_type": "code",
   "execution_count": 13,
   "metadata": {},
   "outputs": [
    {
     "data": {
      "application/vnd.jupyter.widget-view+json": {
       "model_id": "b579790e47624b0082e655ad2d6e49b4",
       "version_major": 2,
       "version_minor": 0
      },
      "text/plain": [
       "VBox()"
      ]
     },
     "metadata": {},
     "output_type": "display_data"
    },
    {
     "data": {
      "application/vnd.jupyter.widget-view+json": {
       "model_id": "",
       "version_major": 2,
       "version_minor": 0
      },
      "text/plain": [
       "FloatProgress(value=0.0, bar_style='info', description='Progress:', layout=Layout(height='25px', width='50%'),…"
      ]
     },
     "metadata": {},
     "output_type": "display_data"
    },
    {
     "name": "stdout",
     "output_type": "stream",
     "text": [
      "['pix1', 'pix2', 'pix3', 'pix4', 'pix5', 'pix6', 'pix7', 'pix8', 'pix9', 'pix10', 'pix11', 'pix12', 'pix13', 'pix14', 'pix15', 'pix16']"
     ]
    }
   ],
   "source": [
    "predictors"
   ]
  },
  {
   "cell_type": "code",
   "execution_count": 14,
   "metadata": {},
   "outputs": [
    {
     "data": {
      "application/vnd.jupyter.widget-view+json": {
       "model_id": "c3a8c385c25d4f919fafe21ee33568f4",
       "version_major": 2,
       "version_minor": 0
      },
      "text/plain": [
       "VBox()"
      ]
     },
     "metadata": {},
     "output_type": "display_data"
    },
    {
     "data": {
      "application/vnd.jupyter.widget-view+json": {
       "model_id": "",
       "version_major": 2,
       "version_minor": 0
      },
      "text/plain": [
       "FloatProgress(value=0.0, bar_style='info', description='Progress:', layout=Layout(height='25px', width='50%'),…"
      ]
     },
     "metadata": {},
     "output_type": "display_data"
    }
   ],
   "source": [
    "train,test,valid = penbased_df.split_frame(ratios=[.7, .15])"
   ]
  },
  {
   "cell_type": "code",
   "execution_count": 15,
   "metadata": {},
   "outputs": [
    {
     "data": {
      "application/vnd.jupyter.widget-view+json": {
       "model_id": "fac82591512b46dba459933cf7e9906a",
       "version_major": 2,
       "version_minor": 0
      },
      "text/plain": [
       "VBox()"
      ]
     },
     "metadata": {},
     "output_type": "display_data"
    },
    {
     "data": {
      "application/vnd.jupyter.widget-view+json": {
       "model_id": "",
       "version_major": 2,
       "version_minor": 0
      },
      "text/plain": [
       "FloatProgress(value=0.0, bar_style='info', description='Progress:', layout=Layout(height='25px', width='50%'),…"
      ]
     },
     "metadata": {},
     "output_type": "display_data"
    },
    {
     "name": "stdout",
     "output_type": "stream",
     "text": [
      "AutoML progress: [\n",
      "21:52:32.209: User specified a validation frame with cross-validation still enabled. Please note that the models will still be validated using cross-validation only, the validation frame will be used to provide purely informative validation metrics on the trained models.\n",
      "\n",
      "########################################################] 100%"
     ]
    }
   ],
   "source": [
    "max_models = 5\n",
    "seed = 1\n",
    "nfolds = 5\n",
    "\n",
    "model_automl = H2OAutoML(max_models=max_models, seed=seed, nfolds=nfolds) \n",
    "\n",
    "model_automl.train(x=predictors,\n",
    "                   y=response,\n",
    "                   training_frame=train,\n",
    "                   validation_frame=valid)"
   ]
  },
  {
   "cell_type": "code",
   "execution_count": 16,
   "metadata": {},
   "outputs": [
    {
     "data": {
      "application/vnd.jupyter.widget-view+json": {
       "model_id": "d5a84f9eaf204bf39b9fbe15b5399792",
       "version_major": 2,
       "version_minor": 0
      },
      "text/plain": [
       "VBox()"
      ]
     },
     "metadata": {},
     "output_type": "display_data"
    },
    {
     "data": {
      "application/vnd.jupyter.widget-view+json": {
       "model_id": "",
       "version_major": 2,
       "version_minor": 0
      },
      "text/plain": [
       "FloatProgress(value=0.0, bar_style='info', description='Progress:', layout=Layout(height='25px', width='50%'),…"
      ]
     },
     "metadata": {},
     "output_type": "display_data"
    },
    {
     "name": "stdout",
     "output_type": "stream",
     "text": [
      "model_id                                               mean_per_class_error    logloss      rmse        mse    auc    aucpr    training_time_ms    predict_time_per_row_ms\n",
      "---------------------------------------------------  ----------------------  ---------  --------  ---------  -----  -------  ------------------  -------------------------\n",
      "DRF_1_AutoML_20210227_215232                                      0.0113897  0.113201   0.147448  0.0217409    nan      nan               12368                   0.187614\n",
      "XGBoost_1_AutoML_20210227_215232                                  0.0128817  0.0505869  0.111702  0.0124773    nan      nan              188802                   0.020123\n",
      "XGBoost_3_AutoML_20210227_215232                                  0.0133316  0.0450103  0.105405  0.0111101    nan      nan              128964                   0.021283\n",
      "XGBoost_2_AutoML_20210227_215232                                  0.0164347  0.0658626  0.127802  0.0163334    nan      nan              145271                   0.011861\n",
      "GLM_1_AutoML_20210227_215232                                      0.0466602  0.163668   0.204579  0.0418527    nan      nan              194990                   0.008342\n",
      "StackedEnsemble_BestOfFamily_AutoML_20210227_215232               0.9        2.30176    0.899844  0.809719     nan      nan              465150                   0.019391\n",
      "StackedEnsemble_AllModels_AutoML_20210227_215232                  0.9        2.30176    0.899844  0.809719     nan      nan              536800                   0.030641\n",
      "\n",
      "[7 rows x 9 columns]"
     ]
    }
   ],
   "source": [
    "h2o.automl.get_leaderboard(model_automl, extra_columns = 'ALL')"
   ]
  },
  {
   "cell_type": "code",
   "execution_count": 18,
   "metadata": {},
   "outputs": [
    {
     "data": {
      "application/vnd.jupyter.widget-view+json": {
       "model_id": "a90abc57c61640c390dedf73b9083f92",
       "version_major": 2,
       "version_minor": 0
      },
      "text/plain": [
       "VBox()"
      ]
     },
     "metadata": {},
     "output_type": "display_data"
    },
    {
     "data": {
      "application/vnd.jupyter.widget-view+json": {
       "model_id": "",
       "version_major": 2,
       "version_minor": 0
      },
      "text/plain": [
       "FloatProgress(value=0.0, bar_style='info', description='Progress:', layout=Layout(height='25px', width='50%'),…"
      ]
     },
     "metadata": {},
     "output_type": "display_data"
    }
   ],
   "source": [
    "ss.stop()"
   ]
  }
 ],
 "metadata": {
  "kernelspec": {
   "display_name": "PySpark",
   "language": "",
   "name": "pysparkkernel"
  },
  "language_info": {
   "codemirror_mode": {
    "name": "python",
    "version": 2
   },
   "mimetype": "text/x-python",
   "name": "pyspark",
   "pygments_lexer": "python2"
  }
 },
 "nbformat": 4,
 "nbformat_minor": 4
}
