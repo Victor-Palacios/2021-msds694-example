{
 "cells": [
  {
   "cell_type": "code",
   "execution_count": 2,
   "id": "congressional-halloween",
   "metadata": {
    "ExecuteTime": {
     "end_time": "2021-01-29T01:49:48.966314Z",
     "start_time": "2021-01-29T01:49:48.964292Z"
    }
   },
   "outputs": [],
   "source": [
    "from pyspark import SparkContext\n",
    "from pyspark.sql import SparkSession\n",
    "from pyspark.sql.types import *\n",
    "from pyspark.sql.functions import asc, desc\n"
   ]
  },
  {
   "cell_type": "code",
   "execution_count": 32,
   "id": "empirical-annotation",
   "metadata": {
    "ExecuteTime": {
     "end_time": "2021-01-29T04:01:16.724687Z",
     "start_time": "2021-01-29T04:01:16.722424Z"
    }
   },
   "outputs": [],
   "source": [
    "input_file = \"../Data/FoodTruckSF_Narrow.csv\""
   ]
  },
  {
   "cell_type": "code",
   "execution_count": 18,
   "id": "dietary-circular",
   "metadata": {
    "ExecuteTime": {
     "end_time": "2021-01-29T03:53:58.559099Z",
     "start_time": "2021-01-29T03:53:58.549527Z"
    }
   },
   "outputs": [],
   "source": [
    "schema = StructType([ StructField(\"DayOrder\", IntegerType(), True),\n",
    "                      StructField(\"DayOfWeek\", StringType(), False),\n",
    "                      StructField(\"Starttime\", StringType(), True),\n",
    "                      StructField(\"Endtime\", StringType(), True),\n",
    "                      StructField(\"Permit\", StringType(), False),\n",
    "                      StructField(\"LocationID\", StringType(), True),\n",
    "                      StructField(\"Start_24\", StringType(), True),\n",
    "                      StructField(\"End_24\", StringType(), True),\n",
    "                      StructField(\"Lat\", FloatType(), True),\n",
    "                      StructField(\"Lon\", FloatType(), True)\n",
    "                    ])\n"
   ]
  },
  {
   "cell_type": "code",
   "execution_count": 19,
   "id": "happy-livestock",
   "metadata": {
    "ExecuteTime": {
     "end_time": "2021-01-29T03:53:58.815559Z",
     "start_time": "2021-01-29T03:53:58.768045Z"
    }
   },
   "outputs": [
    {
     "name": "stdout",
     "output_type": "stream",
     "text": [
      "root\n",
      " |-- DayOrder: integer (nullable = true)\n",
      " |-- DayOfWeek: string (nullable = false)\n",
      " |-- Starttime: string (nullable = true)\n",
      " |-- Endtime: string (nullable = true)\n",
      " |-- Permit: string (nullable = false)\n",
      " |-- LocationID: string (nullable = true)\n",
      " |-- Start_24: string (nullable = true)\n",
      " |-- End_24: string (nullable = true)\n",
      " |-- Lat: float (nullable = true)\n",
      " |-- Lon: float (nullable = true)\n",
      "\n"
     ]
    }
   ],
   "source": [
    "ss = SparkSession.builder.getOrCreate()\n",
    "sc = ss.sparkContext\n",
    "\n",
    "foodtruck_rdd = sc.textFile(input_file)\\\n",
    "                  .map(lambda x : x.split(','))\\\n",
    "                  .map(lambda x : [int(x[0]), x[1], x[2], x[3], x[4], x[5], x[6], x[7], float(x[8]), float(x[9])])\n",
    "\n",
    "foodtruck = ss.createDataFrame(foodtruck_rdd, schema = schema)\n"
   ]
  },
  {
   "cell_type": "markdown",
   "id": "legal-breakdown",
   "metadata": {},
   "source": [
    "## Print the schema of the data frame"
   ]
  },
  {
   "cell_type": "code",
   "execution_count": 22,
   "id": "polyphonic-subdivision",
   "metadata": {
    "ExecuteTime": {
     "end_time": "2021-01-29T03:56:45.948809Z",
     "start_time": "2021-01-29T03:56:45.945516Z"
    },
    "scrolled": true
   },
   "outputs": [
    {
     "name": "stdout",
     "output_type": "stream",
     "text": [
      "root\n",
      " |-- DayOrder: integer (nullable = true)\n",
      " |-- DayOfWeek: string (nullable = false)\n",
      " |-- Starttime: string (nullable = true)\n",
      " |-- Endtime: string (nullable = true)\n",
      " |-- Permit: string (nullable = false)\n",
      " |-- LocationID: string (nullable = true)\n",
      " |-- Start_24: string (nullable = true)\n",
      " |-- End_24: string (nullable = true)\n",
      " |-- Lat: float (nullable = true)\n",
      " |-- Lon: float (nullable = true)\n",
      "\n"
     ]
    }
   ],
   "source": [
    "foodtruck.printSchema()"
   ]
  },
  {
   "cell_type": "markdown",
   "id": "better-viking",
   "metadata": {
    "ExecuteTime": {
     "end_time": "2021-01-29T03:56:04.170419Z",
     "start_time": "2021-01-29T03:56:04.064145Z"
    }
   },
   "source": [
    "### print the number of unique lines."
   ]
  },
  {
   "cell_type": "code",
   "execution_count": 23,
   "id": "careful-allen",
   "metadata": {
    "ExecuteTime": {
     "end_time": "2021-01-29T03:57:14.686406Z",
     "start_time": "2021-01-29T03:57:13.110180Z"
    }
   },
   "outputs": [
    {
     "data": {
      "text/plain": [
       "3141"
      ]
     },
     "execution_count": 23,
     "metadata": {},
     "output_type": "execute_result"
    }
   ],
   "source": [
    "foodtruck.distinct().count()"
   ]
  },
  {
   "cell_type": "markdown",
   "id": "dietary-palmer",
   "metadata": {},
   "source": [
    "## print 10 records which opens earliest but closes latest on Sunday (DayOrder : 0)."
   ]
  },
  {
   "cell_type": "code",
   "execution_count": 33,
   "id": "heated-baltimore",
   "metadata": {
    "ExecuteTime": {
     "end_time": "2021-01-29T04:01:28.810913Z",
     "start_time": "2021-01-29T04:01:28.735536Z"
    }
   },
   "outputs": [
    {
     "name": "stdout",
     "output_type": "stream",
     "text": [
      "+--------+---------+---------+-------+----------+----------+--------+------+---------+-----------+\n",
      "|DayOrder|DayOfWeek|Starttime|Endtime|    Permit|LocationID|Start_24|End_24|      Lat|        Lon|\n",
      "+--------+---------+---------+-------+----------+----------+--------+------+---------+-----------+\n",
      "|       0|   Sunday|     10AM|    9PM|13MFF-0112|    453012|   10:00| 21:00|37.730232|-122.402756|\n",
      "|       0|   Sunday|     10AM|    9PM|18MFF-0011|   1122750|   10:00| 21:00| 37.77591| -122.39006|\n",
      "|       0|   Sunday|     10AM|    8PM|11MFF-0175|    334914|   10:00| 20:00|37.783947|-122.408005|\n",
      "|       0|   Sunday|     10AM|    8PM|17MFF-0177|    959619|   10:00| 20:00|37.776405| -122.39411|\n",
      "|       0|   Sunday|     10AM|    8PM|18MFF-0104|   1219114|   10:00| 20:00| 37.79126| -122.39866|\n",
      "|       0|   Sunday|     10AM|    7PM|18MFF-0005|   1090081|   10:00| 19:00|37.769344| -122.41333|\n",
      "|       0|   Sunday|     10AM|    6PM|18MFF-0064|   1186247|   10:00| 18:00|37.784527| -122.40727|\n",
      "|       0|   Sunday|     10AM|    6PM|18MFF-0096|   1200183|   10:00| 18:00| 37.77604| -122.39294|\n",
      "|       0|   Sunday|     10AM|    6PM|17MFF-0169|    953198|   10:00| 18:00|37.765198| -122.41645|\n",
      "|       0|   Sunday|     10AM|    6PM|18MFF-0017|   1140226|   10:00| 18:00|37.751015| -122.41118|\n",
      "+--------+---------+---------+-------+----------+----------+--------+------+---------+-----------+\n",
      "only showing top 10 rows\n",
      "\n"
     ]
    }
   ],
   "source": [
    "foodtruck.filter(\"DayOrder == 0\").orderBy([foodtruck[\"Starttime\"], foodtruck[\"Endtime\"]], ascending = [True, False])\\\n",
    "                                .show(10)"
   ]
  },
  {
   "cell_type": "code",
   "execution_count": null,
   "id": "reserved-episode",
   "metadata": {},
   "outputs": [],
   "source": []
  }
 ],
 "metadata": {
  "kernelspec": {
   "display_name": "Python 3",
   "language": "python",
   "name": "python3"
  },
  "language_info": {
   "codemirror_mode": {
    "name": "ipython",
    "version": 3
   },
   "file_extension": ".py",
   "mimetype": "text/x-python",
   "name": "python",
   "nbconvert_exporter": "python",
   "pygments_lexer": "ipython3",
   "version": "3.7.9"
  }
 },
 "nbformat": 4,
 "nbformat_minor": 5
}
